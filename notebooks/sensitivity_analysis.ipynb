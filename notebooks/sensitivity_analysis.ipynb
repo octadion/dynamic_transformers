{
 "cells": [
  {
   "cell_type": "code",
   "execution_count": 2,
   "metadata": {},
   "outputs": [
    {
     "name": "stderr",
     "output_type": "stream",
     "text": [
      "/tmp/ipykernel_359188/1016635148.py:4: DeprecationWarning: Importing display from IPython.core.display is deprecated since IPython 7.14, please import from IPython display\n",
      "  from IPython.core.display import display, HTML\n"
     ]
    }
   ],
   "source": [
    "from transformers import AutoTokenizer  # noqa\n",
    "import numpy as np\n",
    "\n",
    "from IPython.core.display import display, HTML\n",
    "import matplotlib.pyplot as plt\n",
    "import matplotlib.colors as colors"
   ]
  },
  {
   "cell_type": "code",
   "execution_count": 3,
   "metadata": {},
   "outputs": [
    {
     "name": "stderr",
     "output_type": "stream",
     "text": [
      "2024-05-21 18:21:57,745\tINFO util.py:154 -- Missing packages: ['ipywidgets']. Run `pip install -U ipywidgets`, then restart the notebook server for rich notebook output.\n"
     ]
    }
   ],
   "source": [
    "from qkvflow.analysis.lyapunov import (\n",
    "    compute_lyapunov_exponent_for_sentence,\n",
    "    visualize_lypunov_exponent,\n",
    ")\n",
    "import levanter\n",
    "\n",
    "from qkvflow.analysis.utils import get_model"
   ]
  },
  {
   "cell_type": "code",
   "execution_count": 4,
   "metadata": {},
   "outputs": [],
   "source": [
    "# this is to prevent loading checkpoint error\n",
    "# from https://github.com/langchain-ai/langchain/issues/9014\n",
    "import nest_asyncio  # noqa\n",
    "\n",
    "nest_asyncio.apply()"
   ]
  },
  {
   "cell_type": "markdown",
   "metadata": {},
   "source": [
    "## Wikitext Example"
   ]
  },
  {
   "cell_type": "code",
   "execution_count": 39,
   "metadata": {},
   "outputs": [],
   "source": [
    "config_path = \"../config/wikitext_103/small.yaml\"\n",
    "checkpoint_path = \"../checkpoints/7pcw1wvj\"\n",
    "base_dir = \"output/\"\n",
    "save_folder = \"wikitext_small_new\"\n",
    "model_choice = \"neuralode\"\n",
    "additional_args = [\n",
    "    \"--time_embed_dim\",\n",
    "    \"72\",\n",
    "    \"--sinusodial_dim\",\n",
    "    \"128\",\n",
    "    \"--multiplier\",\n",
    "    \"10\"\n",
    "]"
   ]
  },
  {
   "cell_type": "code",
   "execution_count": 40,
   "metadata": {},
   "outputs": [
    {
     "name": "stderr",
     "output_type": "stream",
     "text": [
      "2024-05-21T20:00:00 - 0 - levanter.trainer - trainer.py:629 - INFO :: Setting run id to z10ltj4o\n",
      "2024-05-21T20:00:00 - 0 - levanter.logging - logging.py:194 - INFO :: Setting wandb code_dir to /workspaces/qkvflow\n",
      "train:   0%|          | 0/10000 [00:00<?, ?it/s]2024-05-21T20:00:02 - 0 - levanter.checkpoint - checkpoint.py:365 - INFO :: Discovered latest checkpoint from ../checkpoints/7pcw1wvj at /workspaces/qkvflow/notebooks/../checkpoints/7pcw1wvj/step-9984\n",
      "2024-05-21T20:00:02 - 0 - levanter.checkpoint - checkpoint.py:311 - INFO :: Loading checkpoint from /workspaces/qkvflow/notebooks/../checkpoints/7pcw1wvj/step-9984\n",
      "train:   0%|          | 0/10000 [06:20<?, ?it/s]\n"
     ]
    }
   ],
   "source": [
    "trainer, model, eval_loader, tokenizer = levanter.config.main(\n",
    "    get_model,\n",
    "    args=[\n",
    "        \"--config_path\",\n",
    "        config_path,\n",
    "        \"--model_choice\",\n",
    "        model_choice,\n",
    "        \"--trainer.load_checkpoint_path\",\n",
    "        checkpoint_path,\n",
    "        \"--trainer.wandb.mode\",\n",
    "        \"disabled\",\n",
    "        \"--trainer.ray.start_workers\",\n",
    "        \"false\",\n",
    "        \"--trainer.ray.auto_start_cluster\",\n",
    "        \"false\",\n",
    "    ]\n",
    "    + additional_args,\n",
    ")()"
   ]
  },
  {
   "cell_type": "code",
   "execution_count": 44,
   "metadata": {},
   "outputs": [],
   "source": [
    "input = \"Robert Boulter is an English film, television and theatre actor. He had a guest-starring role on the television series \"\n",
    "\n",
    "tokens, lambdas = compute_lyapunov_exponent_for_sentence(\n",
    "    input=input,\n",
    "    model=model,\n",
    "    tokenizer=tokenizer,\n",
    ")\n",
    "tokens = np.array(tokens.array, dtype=tokens.dtype)\n",
    "lambdas = np.array(lambdas)\n",
    "lambdas = np.sum(lambdas, axis=0)\n"
   ]
  },
  {
   "cell_type": "code",
   "execution_count": 47,
   "metadata": {},
   "outputs": [
    {
     "name": "stdout",
     "output_type": "stream",
     "text": [
      "<span style='background-color: #ffdbdb; color: black'>Robert</span><span style='background-color: #ffffff; color: black'> B</span><span style='background-color: #fffafa; color: black'>oul</span><span style='background-color: #fffafa; color: black'>ter</span><span style='background-color: #fff5f5; color: black'> is</span><span style='background-color: #fff0f0; color: black'> an</span><span style='background-color: #ffc6c6; color: black'> English</span><span style='background-color: #fff5f5; color: black'> film</span><span style='background-color: #fff0f0; color: black'>,</span><span style='background-color: #fffafa; color: black'> television</span><span style='background-color: #fff5f5; color: black'> and</span><span style='background-color: #ffffff; color: black'> theatre</span><span style='background-color: #fff0f0; color: black'> actor</span><span style='background-color: #ff4949; color: black'>.</span><span style='background-color: #fff0f0; color: black'> He</span><span style='background-color: #ffc6c6; color: black'> had</span><span style='background-color: #fff0f0; color: black'> a</span><span style='background-color: #ffe5e5; color: black'> guest</span><span style='background-color: #ffffff; color: black'>-</span><span style='background-color: #ffffff; color: black'>star</span><span style='background-color: #ffd6d6; color: black'>ring</span><span style='background-color: #ffe0e0; color: black'> role</span><span style='background-color: #ff6363; color: black'> on</span><span style='background-color: #ff7272; color: black'> the</span><span style='background-color: #ffffff; color: black'> television</span><span style='background-color: #ff4949; color: black'> series</span>\n"
     ]
    }
   ],
   "source": [
    "html = visualize_lypunov_exponent(tokens[:-1], lambdas[:-1], tokenizer)\n",
    "print(html)"
   ]
  },
  {
   "cell_type": "code",
   "execution_count": 48,
   "metadata": {},
   "outputs": [
    {
     "data": {
      "text/html": [
       "<span style='background-color: #ffdbdb; color: black'>Robert</span><span style='background-color: #ffffff; color: black'> B</span><span style='background-color: #fffafa; color: black'>oul</span><span style='background-color: #fffafa; color: black'>ter</span><span style='background-color: #fff5f5; color: black'> is</span><span style='background-color: #fff0f0; color: black'> an</span><span style='background-color: #ffc6c6; color: black'> English</span><span style='background-color: #fff5f5; color: black'> film</span><span style='background-color: #fff0f0; color: black'>,</span><span style='background-color: #fffafa; color: black'> television</span><span style='background-color: #fff5f5; color: black'> and</span><span style='background-color: #ffffff; color: black'> theatre</span><span style='background-color: #fff0f0; color: black'> actor</span><span style='background-color: #ff4949; color: black'>.</span><span style='background-color: #fff0f0; color: black'> He</span><span style='background-color: #ffc6c6; color: black'> had</span><span style='background-color: #fff0f0; color: black'> a</span><span style='background-color: #ffe5e5; color: black'> guest</span><span style='background-color: #ffffff; color: black'>-</span><span style='background-color: #ffffff; color: black'>star</span><span style='background-color: #ffd6d6; color: black'>ring</span><span style='background-color: #ffe0e0; color: black'> role</span><span style='background-color: #ff6363; color: black'> on</span><span style='background-color: #ff7272; color: black'> the</span><span style='background-color: #ffffff; color: black'> television</span><span style='background-color: #ff4949; color: black'> series</span>"
      ],
      "text/plain": [
       "<IPython.core.display.HTML object>"
      ]
     },
     "metadata": {},
     "output_type": "display_data"
    }
   ],
   "source": [
    "display(HTML(html))"
   ]
  },
  {
   "cell_type": "code",
   "execution_count": 50,
   "metadata": {},
   "outputs": [
    {
     "data": {
      "text/plain": [
       "\"<span style='background-color: #ffdbdb; color: black'>Robert</span><span style='background-color: #ffffff; color: black'> B</span><span style='background-color: #fffafa; color: black'>oul</span><span style='background-color: #fffafa; color: black'>ter</span><span style='background-color: #fff5f5; color: black'> is</span><span style='background-color: #fff0f0; color: black'> an</span><span style='background-color: #ffc6c6; color: black'> English</span><span style='background-color: #fff5f5; color: black'> film</span><span style='background-color: #fff0f0; color: black'>,</span><span style='background-color: #fffafa; color: black'> television</span><span style='background-color: #fff5f5; color: black'> and</span><span style='background-color: #ffffff; color: black'> theatre</span><span style='background-color: #fff0f0; color: black'> actor</span><span style='background-color: #ff4949; color: black'>.</span><span style='background-color: #fff0f0; color: black'> He</span><span style='background-color: #ffc6c6; color: black'> had</span><span style='background-color: #fff0f0; color: black'> a</span><span style='background-color: #ffe5e5; color: black'> guest</span><span style='background-color: #ffffff; color: black'>-</span><span style='background-color: #ffffff; color: black'>star</span><span style='background-color: #ffd6d6; color: black'>ring</span><span style='background-color: #ffe0e0; color: black'> role</span><span style='background-color: #ff6363; color: black'> on</span><span style='background-color: #ff7272; color: black'> the</span><span style='background-color: #ffffff; color: black'> television</span><span style='background-color: #ff4949; color: black'> series</span>\""
      ]
     },
     "execution_count": 50,
     "metadata": {},
     "output_type": "execute_result"
    }
   ],
   "source": [
    "html"
   ]
  },
  {
   "cell_type": "code",
   "execution_count": 49,
   "metadata": {},
   "outputs": [],
   "source": [
    "input = \"In 2000 Boulter had a guest-starring role on the television series \"\n",
    "tokens, lambdas = compute_lyapunov_exponent_for_sentence(\n",
    "    input=input,\n",
    "    model=model,\n",
    "    tokenizer=tokenizer,\n",
    ")\n",
    "tokens = np.array(tokens.array, dtype=tokens.dtype)\n",
    "lambdas = np.array(lambdas)\n",
    "lambdas = np.sum(lambdas, axis=0)"
   ]
  },
  {
   "cell_type": "code",
   "execution_count": 51,
   "metadata": {},
   "outputs": [
    {
     "name": "stdout",
     "output_type": "stream",
     "text": [
      "<span style='background-color: #ff9292; color: black'>In</span><span style='background-color: #ffd0d0; color: black'> 2000</span><span style='background-color: #ffebeb; color: black'> B</span><span style='background-color: #ffbcbc; color: black'>oul</span><span style='background-color: #ff2f2f; color: black'>ter</span><span style='background-color: #ffc1c1; color: black'> had</span><span style='background-color: #ffe5e5; color: black'> a</span><span style='background-color: #ffebeb; color: black'> guest</span><span style='background-color: #fffafa; color: black'>-</span><span style='background-color: #ffffff; color: black'>star</span><span style='background-color: #ffd0d0; color: black'>ring</span><span style='background-color: #ffebeb; color: black'> role</span><span style='background-color: #ffa1a1; color: black'> on</span><span style='background-color: #ff9797; color: black'> the</span><span style='background-color: #ffffff; color: black'> television</span><span style='background-color: #ff0a0a; color: black'> series</span>\n"
     ]
    }
   ],
   "source": [
    "html = visualize_lypunov_exponent(tokens[:-1], lambdas[:-1], tokenizer)\n",
    "print(html)"
   ]
  },
  {
   "cell_type": "code",
   "execution_count": 52,
   "metadata": {},
   "outputs": [
    {
     "data": {
      "text/html": [
       "<span style='background-color: #ff9292; color: black'>In</span><span style='background-color: #ffd0d0; color: black'> 2000</span><span style='background-color: #ffebeb; color: black'> B</span><span style='background-color: #ffbcbc; color: black'>oul</span><span style='background-color: #ff2f2f; color: black'>ter</span><span style='background-color: #ffc1c1; color: black'> had</span><span style='background-color: #ffe5e5; color: black'> a</span><span style='background-color: #ffebeb; color: black'> guest</span><span style='background-color: #fffafa; color: black'>-</span><span style='background-color: #ffffff; color: black'>star</span><span style='background-color: #ffd0d0; color: black'>ring</span><span style='background-color: #ffebeb; color: black'> role</span><span style='background-color: #ffa1a1; color: black'> on</span><span style='background-color: #ff9797; color: black'> the</span><span style='background-color: #ffffff; color: black'> television</span><span style='background-color: #ff0a0a; color: black'> series</span>"
      ],
      "text/plain": [
       "<IPython.core.display.HTML object>"
      ]
     },
     "metadata": {},
     "output_type": "display_data"
    }
   ],
   "source": [
    "display(HTML(html))"
   ]
  },
  {
   "cell_type": "code",
   "execution_count": 53,
   "metadata": {},
   "outputs": [
    {
     "data": {
      "text/plain": [
       "\"<span style='background-color: #ff9292; color: black'>In</span><span style='background-color: #ffd0d0; color: black'> 2000</span><span style='background-color: #ffebeb; color: black'> B</span><span style='background-color: #ffbcbc; color: black'>oul</span><span style='background-color: #ff2f2f; color: black'>ter</span><span style='background-color: #ffc1c1; color: black'> had</span><span style='background-color: #ffe5e5; color: black'> a</span><span style='background-color: #ffebeb; color: black'> guest</span><span style='background-color: #fffafa; color: black'>-</span><span style='background-color: #ffffff; color: black'>star</span><span style='background-color: #ffd0d0; color: black'>ring</span><span style='background-color: #ffebeb; color: black'> role</span><span style='background-color: #ffa1a1; color: black'> on</span><span style='background-color: #ff9797; color: black'> the</span><span style='background-color: #ffffff; color: black'> television</span><span style='background-color: #ff0a0a; color: black'> series</span>\""
      ]
     },
     "execution_count": 53,
     "metadata": {},
     "output_type": "execute_result"
    }
   ],
   "source": [
    "html"
   ]
  },
  {
   "cell_type": "code",
   "execution_count": 54,
   "metadata": {},
   "outputs": [],
   "source": [
    "input = \"He had a recurring role in 2003 on two episodes of The Bill, as character \"\n",
    "tokens, lambdas = compute_lyapunov_exponent_for_sentence(\n",
    "    input=input,\n",
    "    model=model,\n",
    "    tokenizer=tokenizer,\n",
    ")\n",
    "tokens = np.array(tokens.array, dtype=tokens.dtype)\n",
    "lambdas = np.array(lambdas)\n",
    "lambdas = np.sum(lambdas, axis=0)\n"
   ]
  },
  {
   "cell_type": "code",
   "execution_count": 55,
   "metadata": {},
   "outputs": [
    {
     "data": {
      "text/html": [
       "<span style='background-color: #ffb6b6; color: black'>He</span><span style='background-color: #fff5f5; color: black'> had</span><span style='background-color: #ffffff; color: black'> a</span><span style='background-color: #fffafa; color: black'> recurring</span><span style='background-color: #ffffff; color: black'> role</span><span style='background-color: #fff5f5; color: black'> in</span><span style='background-color: #ffe0e0; color: black'> 2003</span><span style='background-color: #ffffff; color: black'> on</span><span style='background-color: #ffffff; color: black'> two</span><span style='background-color: #ff9292; color: black'> episodes</span><span style='background-color: #ffffff; color: black'> of</span><span style='background-color: #fff0f0; color: black'> The</span><span style='background-color: #ff8282; color: black'> Bill</span><span style='background-color: #ff8d8d; color: black'>,</span><span style='background-color: #ff6363; color: black'> as</span><span style='background-color: #ffffff; color: black'> character</span>"
      ],
      "text/plain": [
       "<IPython.core.display.HTML object>"
      ]
     },
     "metadata": {},
     "output_type": "display_data"
    }
   ],
   "source": [
    "html = visualize_lypunov_exponent(tokens[:-1], lambdas[:-1], tokenizer)\n",
    "display(HTML(html))"
   ]
  },
  {
   "cell_type": "code",
   "execution_count": 56,
   "metadata": {},
   "outputs": [
    {
     "data": {
      "text/plain": [
       "\"<span style='background-color: #ffb6b6; color: black'>He</span><span style='background-color: #fff5f5; color: black'> had</span><span style='background-color: #ffffff; color: black'> a</span><span style='background-color: #fffafa; color: black'> recurring</span><span style='background-color: #ffffff; color: black'> role</span><span style='background-color: #fff5f5; color: black'> in</span><span style='background-color: #ffe0e0; color: black'> 2003</span><span style='background-color: #ffffff; color: black'> on</span><span style='background-color: #ffffff; color: black'> two</span><span style='background-color: #ff9292; color: black'> episodes</span><span style='background-color: #ffffff; color: black'> of</span><span style='background-color: #fff0f0; color: black'> The</span><span style='background-color: #ff8282; color: black'> Bill</span><span style='background-color: #ff8d8d; color: black'>,</span><span style='background-color: #ff6363; color: black'> as</span><span style='background-color: #ffffff; color: black'> character</span>\""
      ]
     },
     "execution_count": 56,
     "metadata": {},
     "output_type": "execute_result"
    }
   ],
   "source": [
    "html"
   ]
  },
  {
   "cell_type": "code",
   "execution_count": 57,
   "metadata": {},
   "outputs": [],
   "source": [
    "input = \"In 2006 Boulter starred in the play Citizenship written by \"\n",
    "tokens, lambdas = compute_lyapunov_exponent_for_sentence(\n",
    "    input=input,\n",
    "    model=model,\n",
    "    tokenizer=tokenizer,\n",
    ")\n",
    "tokens = np.array(tokens.array, dtype=tokens.dtype)\n",
    "lambdas = np.array(lambdas)\n",
    "lambdas = np.sum(lambdas, axis=0)\n"
   ]
  },
  {
   "cell_type": "code",
   "execution_count": 58,
   "metadata": {},
   "outputs": [
    {
     "data": {
      "text/html": [
       "<span style='background-color: #ffb6b6; color: black'>In</span><span style='background-color: #ffe5e5; color: black'> 2006</span><span style='background-color: #ffffff; color: black'> B</span><span style='background-color: #ffb6b6; color: black'>oul</span><span style='background-color: #ff6363; color: black'>ter</span><span style='background-color: #ffd0d0; color: black'> starred</span><span style='background-color: #ffd6d6; color: black'> in</span><span style='background-color: #ffdbdb; color: black'> the</span><span style='background-color: #ffd0d0; color: black'> play</span><span style='background-color: #ff7d7d; color: black'> Citizenship</span><span style='background-color: #ffa1a1; color: black'> written</span><span style='background-color: #ffffff; color: black'> by</span>"
      ],
      "text/plain": [
       "<IPython.core.display.HTML object>"
      ]
     },
     "metadata": {},
     "output_type": "display_data"
    }
   ],
   "source": [
    "html = visualize_lypunov_exponent(tokens[:-1], lambdas[:-1], tokenizer)\n",
    "display(HTML(html))"
   ]
  },
  {
   "cell_type": "code",
   "execution_count": 59,
   "metadata": {},
   "outputs": [
    {
     "data": {
      "text/plain": [
       "\"<span style='background-color: #ffb6b6; color: black'>In</span><span style='background-color: #ffe5e5; color: black'> 2006</span><span style='background-color: #ffffff; color: black'> B</span><span style='background-color: #ffb6b6; color: black'>oul</span><span style='background-color: #ff6363; color: black'>ter</span><span style='background-color: #ffd0d0; color: black'> starred</span><span style='background-color: #ffd6d6; color: black'> in</span><span style='background-color: #ffdbdb; color: black'> the</span><span style='background-color: #ffd0d0; color: black'> play</span><span style='background-color: #ff7d7d; color: black'> Citizenship</span><span style='background-color: #ffa1a1; color: black'> written</span><span style='background-color: #ffffff; color: black'> by</span>\""
      ]
     },
     "execution_count": 59,
     "metadata": {},
     "output_type": "execute_result"
    }
   ],
   "source": [
    "html"
   ]
  },
  {
   "cell_type": "code",
   "execution_count": 60,
   "metadata": {},
   "outputs": [],
   "source": [
    "input = \"In 2006 Boulter starred in the play Citizenship written by Mark Ravenhill. The play was part of a series which featured different playwrights, titled Burn / Chatroom / Citizenship. In a 2006 interview, fellow actor Ben Whishaw identified Boulter as one of his favorite \"\n",
    "tokens, lambdas = compute_lyapunov_exponent_for_sentence(\n",
    "    input=input,\n",
    "    model=model,\n",
    "    tokenizer=tokenizer,\n",
    ")\n",
    "tokens = np.array(tokens.array, dtype=tokens.dtype)\n",
    "lambdas = np.array(lambdas)\n",
    "lambdas = np.sum(lambdas, axis=0)\n"
   ]
  },
  {
   "cell_type": "code",
   "execution_count": 64,
   "metadata": {},
   "outputs": [
    {
     "data": {
      "text/html": [
       "<span style='background-color: #ffebeb; color: black'>In</span><span style='background-color: #ffffff; color: black'> 2006</span><span style='background-color: #ffffff; color: black'> B</span><span style='background-color: #fff5f5; color: black'>oul</span><span style='background-color: #ffebeb; color: black'>ter</span><span style='background-color: #ffffff; color: black'> starred</span><span style='background-color: #ffffff; color: black'> in</span><span style='background-color: #ffffff; color: black'> the</span><span style='background-color: #ffffff; color: black'> play</span><span style='background-color: #fffafa; color: black'> Citizenship</span><span style='background-color: #ffffff; color: black'> written</span><span style='background-color: #ffffff; color: black'> by</span><span style='background-color: #ffffff; color: black'> Mark</span><span style='background-color: #fffafa; color: black'> Raven</span><span style='background-color: #ffffff; color: black'>hill</span><span style='background-color: #fff0f0; color: black'>.</span><span style='background-color: #ffffff; color: black'> The</span><span style='background-color: #fffafa; color: black'> play</span><span style='background-color: #ffffff; color: black'> was</span><span style='background-color: #ffffff; color: black'> part</span><span style='background-color: #fffafa; color: black'> of</span><span style='background-color: #ffffff; color: black'> a</span><span style='background-color: #fff5f5; color: black'> series</span><span style='background-color: #ffffff; color: black'> which</span><span style='background-color: #ffffff; color: black'> featured</span><span style='background-color: #ffffff; color: black'> different</span><span style='background-color: #fff5f5; color: black'> play</span><span style='background-color: #ffebeb; color: black'>wr</span><span style='background-color: #ffffff; color: black'>ights</span><span style='background-color: #ffffff; color: black'>,</span><span style='background-color: #fffafa; color: black'> titled</span><span style='background-color: #ffebeb; color: black'> Burn</span><span style='background-color: #fff5f5; color: black'> /</span><span style='background-color: #fff5f5; color: black'> Chat</span><span style='background-color: #fffafa; color: black'>room</span><span style='background-color: #fff5f5; color: black'> /</span><span style='background-color: #fff5f5; color: black'> Citizenship</span><span style='background-color: #ffd0d0; color: black'>.</span><span style='background-color: #fff0f0; color: black'> In</span><span style='background-color: #ffffff; color: black'> a</span><span style='background-color: #fff5f5; color: black'> 2006</span><span style='background-color: #fff5f5; color: black'> interview</span><span style='background-color: #fff5f5; color: black'>,</span><span style='background-color: #fff5f5; color: black'> fellow</span><span style='background-color: #ffdbdb; color: black'> actor</span><span style='background-color: #fff5f5; color: black'> Ben</span><span style='background-color: #fffafa; color: black'> Wh</span><span style='background-color: #fffafa; color: black'>ish</span><span style='background-color: #fff5f5; color: black'>aw</span><span style='background-color: #ff9c9c; color: black'> identified</span><span style='background-color: #ffd0d0; color: black'> B</span><span style='background-color: #ffebeb; color: black'>oul</span><span style='background-color: #ffebeb; color: black'>ter</span><span style='background-color: #ff7878; color: black'> as</span><span style='background-color: #ff6868; color: black'> one</span><span style='background-color: #ff8d8d; color: black'> of</span><span style='background-color: #ff4343; color: black'> his</span><span style='background-color: #ffffff; color: black'> favorite</span>"
      ],
      "text/plain": [
       "<IPython.core.display.HTML object>"
      ]
     },
     "metadata": {},
     "output_type": "display_data"
    }
   ],
   "source": [
    "html = visualize_lypunov_exponent(tokens[:-1], lambdas[:-1], tokenizer)\n",
    "display(HTML(html))"
   ]
  },
  {
   "cell_type": "code",
   "execution_count": 65,
   "metadata": {},
   "outputs": [
    {
     "data": {
      "text/plain": [
       "\"<span style='background-color: #ffebeb; color: black'>In</span><span style='background-color: #ffffff; color: black'> 2006</span><span style='background-color: #ffffff; color: black'> B</span><span style='background-color: #fff5f5; color: black'>oul</span><span style='background-color: #ffebeb; color: black'>ter</span><span style='background-color: #ffffff; color: black'> starred</span><span style='background-color: #ffffff; color: black'> in</span><span style='background-color: #ffffff; color: black'> the</span><span style='background-color: #ffffff; color: black'> play</span><span style='background-color: #fffafa; color: black'> Citizenship</span><span style='background-color: #ffffff; color: black'> written</span><span style='background-color: #ffffff; color: black'> by</span><span style='background-color: #ffffff; color: black'> Mark</span><span style='background-color: #fffafa; color: black'> Raven</span><span style='background-color: #ffffff; color: black'>hill</span><span style='background-color: #fff0f0; color: black'>.</span><span style='background-color: #ffffff; color: black'> The</span><span style='background-color: #fffafa; color: black'> play</span><span style='background-color: #ffffff; color: black'> was</span><span style='background-color: #ffffff; color: black'> part</span><span style='background-color: #fffafa; color: black'> of</span><span style='background-color: #ffffff; color: black'> a</span><span style='background-color: #fff5f5; color: black'> series</span><span style='background-color: #ffffff; color: black'> which</span><span style='background-color: #ffffff; color: black'> featured</span><span style='background-color: #ffffff; color: black'> different</span><span style='background-color: #fff5f5; color: black'> play</span><span style='background-color: #ffebeb; color: black'>wr</span><span style='background-color: #ffffff; color: black'>ights</span><span style='background-color: #ffffff; color: black'>,</span><span style='background-color: #fffafa; color: black'> titled</span><span style='background-color: #ffebeb; color: black'> Burn</span><span style='background-color: #fff5f5; color: black'> /</span><span style='background-color: #fff5f5; color: black'> Chat</span><span style='background-color: #fffafa; color: black'>room</span><span style='background-color: #fff5f5; color: black'> /</span><span style='background-color: #fff5f5; color: black'> Citizenship</span><span style='background-color: #ffd0d0; color: black'>.</span><span style='background-color: #fff0f0; color: black'> In</span><span style='background-color: #ffffff; color: black'> a</span><span style='background-color: #fff5f5; color: black'> 2006</span><span style='background-color: #fff5f5; color: black'> interview</span><span style='background-color: #fff5f5; color: black'>,</span><span style='background-color: #fff5f5; color: black'> fellow</span><span style='background-color: #ffdbdb; color: black'> actor</span><span style='background-color: #fff5f5; color: black'> Ben</span><span style='background-color: #fffafa; color: black'> Wh</span><span style='background-color: #fffafa; color: black'>ish</span><span style='background-color: #fff5f5; color: black'>aw</span><span style='background-color: #ff9c9c; color: black'> identified</span><span style='background-color: #ffd0d0; color: black'> B</span><span style='background-color: #ffebeb; color: black'>oul</span><span style='background-color: #ffebeb; color: black'>ter</span><span style='background-color: #ff7878; color: black'> as</span><span style='background-color: #ff6868; color: black'> one</span><span style='background-color: #ff8d8d; color: black'> of</span><span style='background-color: #ff4343; color: black'> his</span><span style='background-color: #ffffff; color: black'> favorite</span>\""
      ]
     },
     "execution_count": 65,
     "metadata": {},
     "output_type": "execute_result"
    }
   ],
   "source": [
    "html"
   ]
  },
  {
   "cell_type": "code",
   "execution_count": 22,
   "metadata": {},
   "outputs": [],
   "source": [
    "# input = \"\"\"\n",
    "# Boulter starred in two films in 2008, Daylight Robbery by filmmaker Paris Leonti, and Donkey Punch directed by Olly Blackburn. Boulter portrayed a character named \"Sean\" in Donkey Punch, who tags along with character \"Josh\" as the \"quiet brother ... who hits it off with Tammi\". Boulter guest starred on a two-part episode arc \"Wounds\" in May 2008 of the television series Waking the Dead as character \"Jimmy Dearden\". He appeared on the television series Survivors as \"Neil\" in November 2008. He had a recurring role in ten episodes of the television series Casualty in 2010, as \\\"Kieron Fletcher\\\". He portrayed an emergency physician applying for a medical fellowship. He commented on the inherent difficulties in portraying a physician on television: \\\"Playing a doctor is a strange experience. Pretending you know what you \\'re talking about when you don\\'t is very bizarre but there are advisers on set who are fantastic at taking you through procedures and giving you the confidence to stand there and look like you know what you \\'re doing.\\\" Boulter starred in the 2011 film Mercenaries directed by\n",
    "# \"\"\"\n",
    "# tokens, lambdas = compute_lyapunov_exponent_for_sentence(\n",
    "#     input=input,\n",
    "#     model=model,\n",
    "#     tokenizer=tokenizer,\n",
    "# )\n",
    "# tokens = np.array(tokens.array, dtype=tokens.dtype)\n",
    "# lambdas = np.array(lambdas)\n",
    "# lambdas = np.sum(lambdas, axis=0)"
   ]
  },
  {
   "cell_type": "code",
   "execution_count": 23,
   "metadata": {},
   "outputs": [],
   "source": [
    "# html = visualize_lypunov_exponent(tokens[:-1], lambdas[:-1], tokenizer)\n",
    "# display(HTML(html))"
   ]
  },
  {
   "cell_type": "code",
   "execution_count": 66,
   "metadata": {},
   "outputs": [],
   "source": [
    "input = \"\"\"\n",
    "In 2006, Boulter starred alongside Whishaw in the play Citizenship written by Mark Ravenhill. He appeared on a 2006 episode of the television series, Doctors, followed by a role in the 2007 theatre production of How to Curse directed by Josie Rourke. How to Curse was performed at Bush Theatre in the London Borough of Hammersmith and Fulham. Boulter starred in two films in 2008, Daylight Robbery by filmmaker Paris Leonti, and Donkey Punch directed by  \n",
    "\"\"\"\n",
    "\n",
    "tokens, lambdas = compute_lyapunov_exponent_for_sentence(\n",
    "    input=input,\n",
    "    model=model,\n",
    "    tokenizer=tokenizer,\n",
    ")\n",
    "tokens = np.array(tokens.array, dtype=tokens.dtype)\n",
    "lambdas = np.array(lambdas)\n",
    "lambdas = np.sum(lambdas, axis=0)"
   ]
  },
  {
   "cell_type": "code",
   "execution_count": 67,
   "metadata": {},
   "outputs": [
    {
     "data": {
      "text/html": [
       "<span style='background-color: #ffd0d0; color: black'>\n",
       "</span><span style='background-color: #ffebeb; color: black'>In</span><span style='background-color: #fff5f5; color: black'> 2006</span><span style='background-color: #ffdbdb; color: black'>,</span><span style='background-color: #ffebeb; color: black'> B</span><span style='background-color: #fffafa; color: black'>oul</span><span style='background-color: #fffafa; color: black'>ter</span><span style='background-color: #fff0f0; color: black'> starred</span><span style='background-color: #ffebeb; color: black'> alongside</span><span style='background-color: #fffafa; color: black'> Wh</span><span style='background-color: #fffafa; color: black'>ish</span><span style='background-color: #ffffff; color: black'>aw</span><span style='background-color: #fff5f5; color: black'> in</span><span style='background-color: #fffafa; color: black'> the</span><span style='background-color: #ffffff; color: black'> play</span><span style='background-color: #ffffff; color: black'> Citizenship</span><span style='background-color: #fffafa; color: black'> written</span><span style='background-color: #fff5f5; color: black'> by</span><span style='background-color: #fffafa; color: black'> Mark</span><span style='background-color: #fffafa; color: black'> Raven</span><span style='background-color: #ffffff; color: black'>hill</span><span style='background-color: #ffdbdb; color: black'>.</span><span style='background-color: #fffafa; color: black'> He</span><span style='background-color: #fff5f5; color: black'> appeared</span><span style='background-color: #fffafa; color: black'> on</span><span style='background-color: #fff5f5; color: black'> a</span><span style='background-color: #fff5f5; color: black'> 2006</span><span style='background-color: #fff5f5; color: black'> episode</span><span style='background-color: #fffafa; color: black'> of</span><span style='background-color: #fffafa; color: black'> the</span><span style='background-color: #ffffff; color: black'> television</span><span style='background-color: #fffafa; color: black'> series</span><span style='background-color: #fff0f0; color: black'>,</span><span style='background-color: #fff5f5; color: black'> Doctors</span><span style='background-color: #fff0f0; color: black'>,</span><span style='background-color: #fffafa; color: black'> followed</span><span style='background-color: #fffafa; color: black'> by</span><span style='background-color: #fffafa; color: black'> a</span><span style='background-color: #fff5f5; color: black'> role</span><span style='background-color: #fffafa; color: black'> in</span><span style='background-color: #ffffff; color: black'> the</span><span style='background-color: #fffafa; color: black'> 2007</span><span style='background-color: #fff5f5; color: black'> theatre</span><span style='background-color: #ffffff; color: black'> production</span><span style='background-color: #fffafa; color: black'> of</span><span style='background-color: #ffffff; color: black'> How</span><span style='background-color: #ffffff; color: black'> to</span><span style='background-color: #ffffff; color: black'> Curse</span><span style='background-color: #fff0f0; color: black'> directed</span><span style='background-color: #fffafa; color: black'> by</span><span style='background-color: #fffafa; color: black'> Jos</span><span style='background-color: #ffffff; color: black'>ie</span><span style='background-color: #fffafa; color: black'> R</span><span style='background-color: #fff5f5; color: black'>ourke</span><span style='background-color: #ffd0d0; color: black'>.</span><span style='background-color: #fff5f5; color: black'> How</span><span style='background-color: #fffafa; color: black'> to</span><span style='background-color: #ffffff; color: black'> Curse</span><span style='background-color: #fff0f0; color: black'> was</span><span style='background-color: #ffe0e0; color: black'> performed</span><span style='background-color: #ffebeb; color: black'> at</span><span style='background-color: #ffffff; color: black'> Bush</span><span style='background-color: #fffafa; color: black'> Theatre</span><span style='background-color: #fff5f5; color: black'> in</span><span style='background-color: #fffafa; color: black'> the</span><span style='background-color: #fff0f0; color: black'> London</span><span style='background-color: #fffafa; color: black'> Borough</span><span style='background-color: #ffffff; color: black'> of</span><span style='background-color: #ffffff; color: black'> Ham</span><span style='background-color: #fff5f5; color: black'>mers</span><span style='background-color: #fffafa; color: black'>mith</span><span style='background-color: #ffebeb; color: black'> and</span><span style='background-color: #fffafa; color: black'> Ful</span><span style='background-color: #ffffff; color: black'>ham</span><span style='background-color: #ffc1c1; color: black'>.</span><span style='background-color: #fff0f0; color: black'> B</span><span style='background-color: #fff0f0; color: black'>oul</span><span style='background-color: #ffe5e5; color: black'>ter</span><span style='background-color: #ffb6b6; color: black'> starred</span><span style='background-color: #ffc1c1; color: black'> in</span><span style='background-color: #ffc1c1; color: black'> two</span><span style='background-color: #ffe0e0; color: black'> films</span><span style='background-color: #ffd0d0; color: black'> in</span><span style='background-color: #ffc1c1; color: black'> 2008</span><span style='background-color: #ffbcbc; color: black'>,</span><span style='background-color: #ffdbdb; color: black'> Daylight</span><span style='background-color: #ffe0e0; color: black'> Rob</span><span style='background-color: #ffe5e5; color: black'>bery</span><span style='background-color: #ffa1a1; color: black'> by</span><span style='background-color: #ff6d6d; color: black'> filmmaker</span><span style='background-color: #ffd0d0; color: black'> Paris</span><span style='background-color: #ffd6d6; color: black'> Le</span><span style='background-color: #ffe5e5; color: black'>ont</span><span style='background-color: #fff0f0; color: black'>i</span><span style='background-color: #ff5858; color: black'>,</span><span style='background-color: #ff1f1f; color: black'> and</span><span style='background-color: #ffb6b6; color: black'> Donkey</span><span style='background-color: #ffe5e5; color: black'> Punch</span><span style='background-color: #ff7878; color: black'> directed</span><span style='background-color: #ff4e4e; color: black'> by</span><span style='background-color: #ff1a1a; color: black'> </span><span style='background-color: #ffffff; color: black'> </span>"
      ],
      "text/plain": [
       "<IPython.core.display.HTML object>"
      ]
     },
     "metadata": {},
     "output_type": "display_data"
    }
   ],
   "source": [
    "html = visualize_lypunov_exponent(tokens[:-1], lambdas[:-1], tokenizer)\n",
    "display(HTML(html))"
   ]
  },
  {
   "cell_type": "code",
   "execution_count": 68,
   "metadata": {},
   "outputs": [
    {
     "data": {
      "text/plain": [
       "\"<span style='background-color: #ffd0d0; color: black'>\\n</span><span style='background-color: #ffebeb; color: black'>In</span><span style='background-color: #fff5f5; color: black'> 2006</span><span style='background-color: #ffdbdb; color: black'>,</span><span style='background-color: #ffebeb; color: black'> B</span><span style='background-color: #fffafa; color: black'>oul</span><span style='background-color: #fffafa; color: black'>ter</span><span style='background-color: #fff0f0; color: black'> starred</span><span style='background-color: #ffebeb; color: black'> alongside</span><span style='background-color: #fffafa; color: black'> Wh</span><span style='background-color: #fffafa; color: black'>ish</span><span style='background-color: #ffffff; color: black'>aw</span><span style='background-color: #fff5f5; color: black'> in</span><span style='background-color: #fffafa; color: black'> the</span><span style='background-color: #ffffff; color: black'> play</span><span style='background-color: #ffffff; color: black'> Citizenship</span><span style='background-color: #fffafa; color: black'> written</span><span style='background-color: #fff5f5; color: black'> by</span><span style='background-color: #fffafa; color: black'> Mark</span><span style='background-color: #fffafa; color: black'> Raven</span><span style='background-color: #ffffff; color: black'>hill</span><span style='background-color: #ffdbdb; color: black'>.</span><span style='background-color: #fffafa; color: black'> He</span><span style='background-color: #fff5f5; color: black'> appeared</span><span style='background-color: #fffafa; color: black'> on</span><span style='background-color: #fff5f5; color: black'> a</span><span style='background-color: #fff5f5; color: black'> 2006</span><span style='background-color: #fff5f5; color: black'> episode</span><span style='background-color: #fffafa; color: black'> of</span><span style='background-color: #fffafa; color: black'> the</span><span style='background-color: #ffffff; color: black'> television</span><span style='background-color: #fffafa; color: black'> series</span><span style='background-color: #fff0f0; color: black'>,</span><span style='background-color: #fff5f5; color: black'> Doctors</span><span style='background-color: #fff0f0; color: black'>,</span><span style='background-color: #fffafa; color: black'> followed</span><span style='background-color: #fffafa; color: black'> by</span><span style='background-color: #fffafa; color: black'> a</span><span style='background-color: #fff5f5; color: black'> role</span><span style='background-color: #fffafa; color: black'> in</span><span style='background-color: #ffffff; color: black'> the</span><span style='background-color: #fffafa; color: black'> 2007</span><span style='background-color: #fff5f5; color: black'> theatre</span><span style='background-color: #ffffff; color: black'> production</span><span style='background-color: #fffafa; color: black'> of</span><span style='background-color: #ffffff; color: black'> How</span><span style='background-color: #ffffff; color: black'> to</span><span style='background-color: #ffffff; color: black'> Curse</span><span style='background-color: #fff0f0; color: black'> directed</span><span style='background-color: #fffafa; color: black'> by</span><span style='background-color: #fffafa; color: black'> Jos</span><span style='background-color: #ffffff; color: black'>ie</span><span style='background-color: #fffafa; color: black'> R</span><span style='background-color: #fff5f5; color: black'>ourke</span><span style='background-color: #ffd0d0; color: black'>.</span><span style='background-color: #fff5f5; color: black'> How</span><span style='background-color: #fffafa; color: black'> to</span><span style='background-color: #ffffff; color: black'> Curse</span><span style='background-color: #fff0f0; color: black'> was</span><span style='background-color: #ffe0e0; color: black'> performed</span><span style='background-color: #ffebeb; color: black'> at</span><span style='background-color: #ffffff; color: black'> Bush</span><span style='background-color: #fffafa; color: black'> Theatre</span><span style='background-color: #fff5f5; color: black'> in</span><span style='background-color: #fffafa; color: black'> the</span><span style='background-color: #fff0f0; color: black'> London</span><span style='background-color: #fffafa; color: black'> Borough</span><span style='background-color: #ffffff; color: black'> of</span><span style='background-color: #ffffff; color: black'> Ham</span><span style='background-color: #fff5f5; color: black'>mers</span><span style='background-color: #fffafa; color: black'>mith</span><span style='background-color: #ffebeb; color: black'> and</span><span style='background-color: #fffafa; color: black'> Ful</span><span style='background-color: #ffffff; color: black'>ham</span><span style='background-color: #ffc1c1; color: black'>.</span><span style='background-color: #fff0f0; color: black'> B</span><span style='background-color: #fff0f0; color: black'>oul</span><span style='background-color: #ffe5e5; color: black'>ter</span><span style='background-color: #ffb6b6; color: black'> starred</span><span style='background-color: #ffc1c1; color: black'> in</span><span style='background-color: #ffc1c1; color: black'> two</span><span style='background-color: #ffe0e0; color: black'> films</span><span style='background-color: #ffd0d0; color: black'> in</span><span style='background-color: #ffc1c1; color: black'> 2008</span><span style='background-color: #ffbcbc; color: black'>,</span><span style='background-color: #ffdbdb; color: black'> Daylight</span><span style='background-color: #ffe0e0; color: black'> Rob</span><span style='background-color: #ffe5e5; color: black'>bery</span><span style='background-color: #ffa1a1; color: black'> by</span><span style='background-color: #ff6d6d; color: black'> filmmaker</span><span style='background-color: #ffd0d0; color: black'> Paris</span><span style='background-color: #ffd6d6; color: black'> Le</span><span style='background-color: #ffe5e5; color: black'>ont</span><span style='background-color: #fff0f0; color: black'>i</span><span style='background-color: #ff5858; color: black'>,</span><span style='background-color: #ff1f1f; color: black'> and</span><span style='background-color: #ffb6b6; color: black'> Donkey</span><span style='background-color: #ffe5e5; color: black'> Punch</span><span style='background-color: #ff7878; color: black'> directed</span><span style='background-color: #ff4e4e; color: black'> by</span><span style='background-color: #ff1a1a; color: black'> </span><span style='background-color: #ffffff; color: black'> </span>\""
      ]
     },
     "execution_count": 68,
     "metadata": {},
     "output_type": "execute_result"
    }
   ],
   "source": [
    "html"
   ]
  },
  {
   "cell_type": "code",
   "execution_count": 69,
   "metadata": {},
   "outputs": [],
   "source": [
    "input = \"Du Fu was a prominent Chinese poet of the Tang \"  # next word is `dynasty`\n",
    "tokens, lambdas = compute_lyapunov_exponent_for_sentence(\n",
    "    input=input,\n",
    "    model=model,\n",
    "    tokenizer=tokenizer,\n",
    ")\n",
    "tokens = np.array(tokens.array, dtype=tokens.dtype)\n",
    "lambdas = np.array(lambdas)\n",
    "lambdas = np.sum(lambdas, axis=0)\n"
   ]
  },
  {
   "cell_type": "code",
   "execution_count": 70,
   "metadata": {},
   "outputs": [
    {
     "data": {
      "text/html": [
       "<span style='background-color: #ffbcbc; color: black'>Du</span><span style='background-color: #ffffff; color: black'> Fu</span><span style='background-color: #ffd0d0; color: black'> was</span><span style='background-color: #fff5f5; color: black'> a</span><span style='background-color: #ffffff; color: black'> prominent</span><span style='background-color: #ffa7a7; color: black'> Chinese</span><span style='background-color: #ffc6c6; color: black'> poet</span><span style='background-color: #ffcbcb; color: black'> of</span><span style='background-color: #ffb1b1; color: black'> the</span><span style='background-color: #ffffff; color: black'> Tang</span>"
      ],
      "text/plain": [
       "<IPython.core.display.HTML object>"
      ]
     },
     "metadata": {},
     "output_type": "display_data"
    }
   ],
   "source": [
    "html = visualize_lypunov_exponent(tokens[:-1], lambdas[:-1], tokenizer)\n",
    "display(HTML(html))"
   ]
  },
  {
   "cell_type": "code",
   "execution_count": 71,
   "metadata": {},
   "outputs": [
    {
     "data": {
      "text/plain": [
       "\"<span style='background-color: #ffbcbc; color: black'>Du</span><span style='background-color: #ffffff; color: black'> Fu</span><span style='background-color: #ffd0d0; color: black'> was</span><span style='background-color: #fff5f5; color: black'> a</span><span style='background-color: #ffffff; color: black'> prominent</span><span style='background-color: #ffa7a7; color: black'> Chinese</span><span style='background-color: #ffc6c6; color: black'> poet</span><span style='background-color: #ffcbcb; color: black'> of</span><span style='background-color: #ffb1b1; color: black'> the</span><span style='background-color: #ffffff; color: black'> Tang</span>\""
      ]
     },
     "execution_count": 71,
     "metadata": {},
     "output_type": "execute_result"
    }
   ],
   "source": [
    "html"
   ]
  },
  {
   "cell_type": "code",
   "execution_count": 72,
   "metadata": {},
   "outputs": [
    {
     "name": "stderr",
     "output_type": "stream",
     "text": [
      "/opt/conda/lib/python3.10/site-packages/haliax/core.py:233: UserWarning: Found axis with same name but different size.\n",
      "  warnings.warn(\"Found axis with same name but different size.\", UserWarning)\n"
     ]
    }
   ],
   "source": [
    "input = (\n",
    "    \"Along with Li Bai (Li Po), he is frequently called the greatest of the Chinese \"\n",
    ")\n",
    "tokens, lambdas = compute_lyapunov_exponent_for_sentence(\n",
    "    input=input,\n",
    "    model=model,\n",
    "    tokenizer=tokenizer,\n",
    ")\n",
    "tokens = np.array(tokens.array, dtype=tokens.dtype)\n",
    "lambdas = np.array(lambdas)\n",
    "lambdas = np.sum(lambdas, axis=0)"
   ]
  },
  {
   "cell_type": "code",
   "execution_count": 73,
   "metadata": {},
   "outputs": [
    {
     "data": {
      "text/html": [
       "<span style='background-color: #fff0f0; color: black'>Along</span><span style='background-color: #ffffff; color: black'> with</span><span style='background-color: #fffafa; color: black'> Li</span><span style='background-color: #ffffff; color: black'> Bai</span><span style='background-color: #fff5f5; color: black'> (</span><span style='background-color: #ffffff; color: black'>Li</span><span style='background-color: #ffffff; color: black'> Po</span><span style='background-color: #ffcbcb; color: black'>),</span><span style='background-color: #fff5f5; color: black'> he</span><span style='background-color: #ffebeb; color: black'> is</span><span style='background-color: #ffffff; color: black'> frequently</span><span style='background-color: #ffebeb; color: black'> called</span><span style='background-color: #fff5f5; color: black'> the</span><span style='background-color: #ffd6d6; color: black'> greatest</span><span style='background-color: #ffd6d6; color: black'> of</span><span style='background-color: #ffd6d6; color: black'> the</span><span style='background-color: #ffffff; color: black'> Chinese</span>"
      ],
      "text/plain": [
       "<IPython.core.display.HTML object>"
      ]
     },
     "metadata": {},
     "output_type": "display_data"
    }
   ],
   "source": [
    "html = visualize_lypunov_exponent(tokens[:-1], lambdas[:-1], tokenizer)\n",
    "display(HTML(html))"
   ]
  },
  {
   "cell_type": "code",
   "execution_count": 74,
   "metadata": {},
   "outputs": [
    {
     "data": {
      "text/plain": [
       "\"<span style='background-color: #fff0f0; color: black'>Along</span><span style='background-color: #ffffff; color: black'> with</span><span style='background-color: #fffafa; color: black'> Li</span><span style='background-color: #ffffff; color: black'> Bai</span><span style='background-color: #fff5f5; color: black'> (</span><span style='background-color: #ffffff; color: black'>Li</span><span style='background-color: #ffffff; color: black'> Po</span><span style='background-color: #ffcbcb; color: black'>),</span><span style='background-color: #fff5f5; color: black'> he</span><span style='background-color: #ffebeb; color: black'> is</span><span style='background-color: #ffffff; color: black'> frequently</span><span style='background-color: #ffebeb; color: black'> called</span><span style='background-color: #fff5f5; color: black'> the</span><span style='background-color: #ffd6d6; color: black'> greatest</span><span style='background-color: #ffd6d6; color: black'> of</span><span style='background-color: #ffd6d6; color: black'> the</span><span style='background-color: #ffffff; color: black'> Chinese</span>\""
      ]
     },
     "execution_count": 74,
     "metadata": {},
     "output_type": "execute_result"
    }
   ],
   "source": [
    "html"
   ]
  },
  {
   "cell_type": "code",
   "execution_count": 75,
   "metadata": {},
   "outputs": [
    {
     "name": "stderr",
     "output_type": "stream",
     "text": [
      "/opt/conda/lib/python3.10/site-packages/haliax/core.py:233: UserWarning: Found axis with same name but different size.\n",
      "  warnings.warn(\"Found axis with same name but different size.\", UserWarning)\n"
     ]
    }
   ],
   "source": [
    "input = \"Du Fu was a prominent Chinese poet of the Tang dynasty. Along with Li Bai (Li Po), he is frequently called the greatest of the Chinese poets. His greatest ambition was to serve his country as a successful civil servant, but \"\n",
    "tokens, lambdas = compute_lyapunov_exponent_for_sentence(\n",
    "    input=input,\n",
    "    model=model,\n",
    "    tokenizer=tokenizer,\n",
    ")\n",
    "tokens = np.array(tokens.array, dtype=tokens.dtype)\n",
    "lambdas = np.array(lambdas)\n",
    "lambdas = np.sum(lambdas, axis=0)\n"
   ]
  },
  {
   "cell_type": "code",
   "execution_count": 76,
   "metadata": {},
   "outputs": [
    {
     "data": {
      "text/html": [
       "<span style='background-color: #ffe5e5; color: black'>Du</span><span style='background-color: #fffafa; color: black'> Fu</span><span style='background-color: #fff5f5; color: black'> was</span><span style='background-color: #fffafa; color: black'> a</span><span style='background-color: #ffffff; color: black'> prominent</span><span style='background-color: #ffebeb; color: black'> Chinese</span><span style='background-color: #fffafa; color: black'> poet</span><span style='background-color: #ffffff; color: black'> of</span><span style='background-color: #ffffff; color: black'> the</span><span style='background-color: #fff0f0; color: black'> Tang</span><span style='background-color: #ffffff; color: black'> dynasty</span><span style='background-color: #ffdbdb; color: black'>.</span><span style='background-color: #ffebeb; color: black'> Along</span><span style='background-color: #ffffff; color: black'> with</span><span style='background-color: #fff0f0; color: black'> Li</span><span style='background-color: #fff0f0; color: black'> Bai</span><span style='background-color: #ffebeb; color: black'> (</span><span style='background-color: #fff5f5; color: black'>Li</span><span style='background-color: #fffafa; color: black'> Po</span><span style='background-color: #fff0f0; color: black'>),</span><span style='background-color: #fffafa; color: black'> he</span><span style='background-color: #fffafa; color: black'> is</span><span style='background-color: #ffffff; color: black'> frequently</span><span style='background-color: #ffebeb; color: black'> called</span><span style='background-color: #ffffff; color: black'> the</span><span style='background-color: #fffafa; color: black'> greatest</span><span style='background-color: #fffafa; color: black'> of</span><span style='background-color: #ffffff; color: black'> the</span><span style='background-color: #ffa7a7; color: black'> Chinese</span><span style='background-color: #ffebeb; color: black'> poets</span><span style='background-color: #ff8d8d; color: black'>.</span><span style='background-color: #ffcbcb; color: black'> His</span><span style='background-color: #ffcbcb; color: black'> greatest</span><span style='background-color: #ffe0e0; color: black'> ambition</span><span style='background-color: #ffa7a7; color: black'> was</span><span style='background-color: #ffcbcb; color: black'> to</span><span style='background-color: #ffe5e5; color: black'> serve</span><span style='background-color: #ffebeb; color: black'> his</span><span style='background-color: #ffe0e0; color: black'> country</span><span style='background-color: #ffcbcb; color: black'> as</span><span style='background-color: #ffb6b6; color: black'> a</span><span style='background-color: #ffe0e0; color: black'> successful</span><span style='background-color: #ffbcbc; color: black'> civil</span><span style='background-color: #ffdbdb; color: black'> servant</span><span style='background-color: #ff8d8d; color: black'>,</span><span style='background-color: #ffffff; color: black'> but</span>"
      ],
      "text/plain": [
       "<IPython.core.display.HTML object>"
      ]
     },
     "metadata": {},
     "output_type": "display_data"
    }
   ],
   "source": [
    "html = visualize_lypunov_exponent(tokens[:-1], lambdas[:-1], tokenizer)\n",
    "display(HTML(html))"
   ]
  },
  {
   "cell_type": "code",
   "execution_count": 77,
   "metadata": {},
   "outputs": [
    {
     "data": {
      "text/plain": [
       "\"<span style='background-color: #ffe5e5; color: black'>Du</span><span style='background-color: #fffafa; color: black'> Fu</span><span style='background-color: #fff5f5; color: black'> was</span><span style='background-color: #fffafa; color: black'> a</span><span style='background-color: #ffffff; color: black'> prominent</span><span style='background-color: #ffebeb; color: black'> Chinese</span><span style='background-color: #fffafa; color: black'> poet</span><span style='background-color: #ffffff; color: black'> of</span><span style='background-color: #ffffff; color: black'> the</span><span style='background-color: #fff0f0; color: black'> Tang</span><span style='background-color: #ffffff; color: black'> dynasty</span><span style='background-color: #ffdbdb; color: black'>.</span><span style='background-color: #ffebeb; color: black'> Along</span><span style='background-color: #ffffff; color: black'> with</span><span style='background-color: #fff0f0; color: black'> Li</span><span style='background-color: #fff0f0; color: black'> Bai</span><span style='background-color: #ffebeb; color: black'> (</span><span style='background-color: #fff5f5; color: black'>Li</span><span style='background-color: #fffafa; color: black'> Po</span><span style='background-color: #fff0f0; color: black'>),</span><span style='background-color: #fffafa; color: black'> he</span><span style='background-color: #fffafa; color: black'> is</span><span style='background-color: #ffffff; color: black'> frequently</span><span style='background-color: #ffebeb; color: black'> called</span><span style='background-color: #ffffff; color: black'> the</span><span style='background-color: #fffafa; color: black'> greatest</span><span style='background-color: #fffafa; color: black'> of</span><span style='background-color: #ffffff; color: black'> the</span><span style='background-color: #ffa7a7; color: black'> Chinese</span><span style='background-color: #ffebeb; color: black'> poets</span><span style='background-color: #ff8d8d; color: black'>.</span><span style='background-color: #ffcbcb; color: black'> His</span><span style='background-color: #ffcbcb; color: black'> greatest</span><span style='background-color: #ffe0e0; color: black'> ambition</span><span style='background-color: #ffa7a7; color: black'> was</span><span style='background-color: #ffcbcb; color: black'> to</span><span style='background-color: #ffe5e5; color: black'> serve</span><span style='background-color: #ffebeb; color: black'> his</span><span style='background-color: #ffe0e0; color: black'> country</span><span style='background-color: #ffcbcb; color: black'> as</span><span style='background-color: #ffb6b6; color: black'> a</span><span style='background-color: #ffe0e0; color: black'> successful</span><span style='background-color: #ffbcbc; color: black'> civil</span><span style='background-color: #ffdbdb; color: black'> servant</span><span style='background-color: #ff8d8d; color: black'>,</span><span style='background-color: #ffffff; color: black'> but</span>\""
      ]
     },
     "execution_count": 77,
     "metadata": {},
     "output_type": "execute_result"
    }
   ],
   "source": [
    "html"
   ]
  },
  {
   "cell_type": "code",
   "execution_count": 78,
   "metadata": {},
   "outputs": [],
   "source": [
    "input = \"\"\"\n",
    "Although initially he was little-known to other writers, his works came to be hugely influential in both Chinese and Japanese literary culture. Of his poetic writing, nearly fifteen hundred poems have been preserved over the ages. He has been called the \"Poet-Historian\" and the \"Poet-Sage\" by Chinese critics, while the range of his work has allowed him to be introduced to Western readers as \\\"the Chinese Virgil, Horace, Ovid, Shakespeare, Milton, Burns, Wordsworth, Béranger, Hugo or \n",
    "\"\"\"\n",
    "tokens, lambdas = compute_lyapunov_exponent_for_sentence(\n",
    "    input=input,\n",
    "    model=model,\n",
    "    tokenizer=tokenizer,\n",
    ")\n",
    "tokens = np.array(tokens.array, dtype=tokens.dtype)\n",
    "lambdas = np.array(lambdas)\n",
    "lambdas = np.sum(lambdas, axis=0)\n"
   ]
  },
  {
   "cell_type": "code",
   "execution_count": 79,
   "metadata": {},
   "outputs": [
    {
     "data": {
      "text/html": [
       "<span style='background-color: #ffd0d0; color: black'>\n",
       "</span><span style='background-color: #ffa7a7; color: black'>Although</span><span style='background-color: #fff0f0; color: black'> initially</span><span style='background-color: #fff5f5; color: black'> he</span><span style='background-color: #ffe5e5; color: black'> was</span><span style='background-color: #fffafa; color: black'> little</span><span style='background-color: #fffafa; color: black'>-</span><span style='background-color: #fffafa; color: black'>known</span><span style='background-color: #fff5f5; color: black'> to</span><span style='background-color: #fff5f5; color: black'> other</span><span style='background-color: #ffffff; color: black'> writers</span><span style='background-color: #fff0f0; color: black'>,</span><span style='background-color: #fffafa; color: black'> his</span><span style='background-color: #ffd0d0; color: black'> works</span><span style='background-color: #ffebeb; color: black'> came</span><span style='background-color: #fff0f0; color: black'> to</span><span style='background-color: #ffd6d6; color: black'> be</span><span style='background-color: #fffafa; color: black'> hugely</span><span style='background-color: #ffffff; color: black'> influential</span><span style='background-color: #ffe5e5; color: black'> in</span><span style='background-color: #fff5f5; color: black'> both</span><span style='background-color: #ffffff; color: black'> Chinese</span><span style='background-color: #fffafa; color: black'> and</span><span style='background-color: #ffffff; color: black'> Japanese</span><span style='background-color: #ffffff; color: black'> literary</span><span style='background-color: #fffafa; color: black'> culture</span><span style='background-color: #ffd6d6; color: black'>.</span><span style='background-color: #ffebeb; color: black'> Of</span><span style='background-color: #fffafa; color: black'> his</span><span style='background-color: #ffffff; color: black'> poetic</span><span style='background-color: #ffffff; color: black'> writing</span><span style='background-color: #ffe5e5; color: black'>,</span><span style='background-color: #fffafa; color: black'> nearly</span><span style='background-color: #ffffff; color: black'> fifteen</span><span style='background-color: #fffafa; color: black'> hundred</span><span style='background-color: #fffafa; color: black'> poems</span><span style='background-color: #fff0f0; color: black'> have</span><span style='background-color: #fff0f0; color: black'> been</span><span style='background-color: #fffafa; color: black'> preserved</span><span style='background-color: #ffffff; color: black'> over</span><span style='background-color: #ffffff; color: black'> the</span><span style='background-color: #fffafa; color: black'> ages</span><span style='background-color: #ffe0e0; color: black'>.</span><span style='background-color: #fffafa; color: black'> He</span><span style='background-color: #ffebeb; color: black'> has</span><span style='background-color: #fff0f0; color: black'> been</span><span style='background-color: #fff5f5; color: black'> called</span><span style='background-color: #ffffff; color: black'> the</span><span style='background-color: #fffafa; color: black'> \"</span><span style='background-color: #fffafa; color: black'>Po</span><span style='background-color: #ffffff; color: black'>et</span><span style='background-color: #ffffff; color: black'>-</span><span style='background-color: #ffffff; color: black'>Hist</span><span style='background-color: #ffffff; color: black'>orian</span><span style='background-color: #fffafa; color: black'>\"</span><span style='background-color: #fffafa; color: black'> and</span><span style='background-color: #ffffff; color: black'> the</span><span style='background-color: #fff5f5; color: black'> \"</span><span style='background-color: #fffafa; color: black'>Po</span><span style='background-color: #ffffff; color: black'>et</span><span style='background-color: #ffffff; color: black'>-</span><span style='background-color: #ffffff; color: black'>S</span><span style='background-color: #ffffff; color: black'>age</span><span style='background-color: #fffafa; color: black'>\"</span><span style='background-color: #fff5f5; color: black'> by</span><span style='background-color: #ffffff; color: black'> Chinese</span><span style='background-color: #fff5f5; color: black'> critics</span><span style='background-color: #ffebeb; color: black'>,</span><span style='background-color: #fff0f0; color: black'> while</span><span style='background-color: #fff5f5; color: black'> the</span><span style='background-color: #fff5f5; color: black'> range</span><span style='background-color: #fff5f5; color: black'> of</span><span style='background-color: #fffafa; color: black'> his</span><span style='background-color: #fff5f5; color: black'> work</span><span style='background-color: #ffebeb; color: black'> has</span><span style='background-color: #fff5f5; color: black'> allowed</span><span style='background-color: #ffebeb; color: black'> him</span><span style='background-color: #fff0f0; color: black'> to</span><span style='background-color: #fff0f0; color: black'> be</span><span style='background-color: #fffafa; color: black'> introduced</span><span style='background-color: #ffebeb; color: black'> to</span><span style='background-color: #fff5f5; color: black'> Western</span><span style='background-color: #fff0f0; color: black'> readers</span><span style='background-color: #ffebeb; color: black'> as</span><span style='background-color: #ffebeb; color: black'> \"</span><span style='background-color: #fffafa; color: black'>the</span><span style='background-color: #fff5f5; color: black'> Chinese</span><span style='background-color: #ffffff; color: black'> Vir</span><span style='background-color: #fff5f5; color: black'>gil</span><span style='background-color: #ffebeb; color: black'>,</span><span style='background-color: #fff0f0; color: black'> Hor</span><span style='background-color: #fffafa; color: black'>ace</span><span style='background-color: #ffe5e5; color: black'>,</span><span style='background-color: #fff0f0; color: black'> O</span><span style='background-color: #fff0f0; color: black'>vid</span><span style='background-color: #ffe5e5; color: black'>,</span><span style='background-color: #fff0f0; color: black'> Shakespeare</span><span style='background-color: #ffe0e0; color: black'>,</span><span style='background-color: #ffebeb; color: black'> Milton</span><span style='background-color: #ffe0e0; color: black'>,</span><span style='background-color: #ffe5e5; color: black'> Burns</span><span style='background-color: #ffd6d6; color: black'>,</span><span style='background-color: #ffe0e0; color: black'> Word</span><span style='background-color: #ffdbdb; color: black'>sworth</span><span style='background-color: #ffc6c6; color: black'>,</span><span style='background-color: #ffb6b6; color: black'> B</span><span style='background-color: #ffdbdb; color: black'>ér</span><span style='background-color: #ffdbdb; color: black'>anger</span><span style='background-color: #ffacac; color: black'>,</span><span style='background-color: #ff7d7d; color: black'> Hugo</span><span style='background-color: #ff8282; color: black'> or</span><span style='background-color: #ffffff; color: black'> </span>"
      ],
      "text/plain": [
       "<IPython.core.display.HTML object>"
      ]
     },
     "metadata": {},
     "output_type": "display_data"
    }
   ],
   "source": [
    "html = visualize_lypunov_exponent(tokens[:-1], lambdas[:-1], tokenizer)\n",
    "display(HTML(html))"
   ]
  },
  {
   "cell_type": "code",
   "execution_count": 80,
   "metadata": {},
   "outputs": [
    {
     "data": {
      "text/plain": [
       "'<span style=\\'background-color: #ffd0d0; color: black\\'>\\n</span><span style=\\'background-color: #ffa7a7; color: black\\'>Although</span><span style=\\'background-color: #fff0f0; color: black\\'> initially</span><span style=\\'background-color: #fff5f5; color: black\\'> he</span><span style=\\'background-color: #ffe5e5; color: black\\'> was</span><span style=\\'background-color: #fffafa; color: black\\'> little</span><span style=\\'background-color: #fffafa; color: black\\'>-</span><span style=\\'background-color: #fffafa; color: black\\'>known</span><span style=\\'background-color: #fff5f5; color: black\\'> to</span><span style=\\'background-color: #fff5f5; color: black\\'> other</span><span style=\\'background-color: #ffffff; color: black\\'> writers</span><span style=\\'background-color: #fff0f0; color: black\\'>,</span><span style=\\'background-color: #fffafa; color: black\\'> his</span><span style=\\'background-color: #ffd0d0; color: black\\'> works</span><span style=\\'background-color: #ffebeb; color: black\\'> came</span><span style=\\'background-color: #fff0f0; color: black\\'> to</span><span style=\\'background-color: #ffd6d6; color: black\\'> be</span><span style=\\'background-color: #fffafa; color: black\\'> hugely</span><span style=\\'background-color: #ffffff; color: black\\'> influential</span><span style=\\'background-color: #ffe5e5; color: black\\'> in</span><span style=\\'background-color: #fff5f5; color: black\\'> both</span><span style=\\'background-color: #ffffff; color: black\\'> Chinese</span><span style=\\'background-color: #fffafa; color: black\\'> and</span><span style=\\'background-color: #ffffff; color: black\\'> Japanese</span><span style=\\'background-color: #ffffff; color: black\\'> literary</span><span style=\\'background-color: #fffafa; color: black\\'> culture</span><span style=\\'background-color: #ffd6d6; color: black\\'>.</span><span style=\\'background-color: #ffebeb; color: black\\'> Of</span><span style=\\'background-color: #fffafa; color: black\\'> his</span><span style=\\'background-color: #ffffff; color: black\\'> poetic</span><span style=\\'background-color: #ffffff; color: black\\'> writing</span><span style=\\'background-color: #ffe5e5; color: black\\'>,</span><span style=\\'background-color: #fffafa; color: black\\'> nearly</span><span style=\\'background-color: #ffffff; color: black\\'> fifteen</span><span style=\\'background-color: #fffafa; color: black\\'> hundred</span><span style=\\'background-color: #fffafa; color: black\\'> poems</span><span style=\\'background-color: #fff0f0; color: black\\'> have</span><span style=\\'background-color: #fff0f0; color: black\\'> been</span><span style=\\'background-color: #fffafa; color: black\\'> preserved</span><span style=\\'background-color: #ffffff; color: black\\'> over</span><span style=\\'background-color: #ffffff; color: black\\'> the</span><span style=\\'background-color: #fffafa; color: black\\'> ages</span><span style=\\'background-color: #ffe0e0; color: black\\'>.</span><span style=\\'background-color: #fffafa; color: black\\'> He</span><span style=\\'background-color: #ffebeb; color: black\\'> has</span><span style=\\'background-color: #fff0f0; color: black\\'> been</span><span style=\\'background-color: #fff5f5; color: black\\'> called</span><span style=\\'background-color: #ffffff; color: black\\'> the</span><span style=\\'background-color: #fffafa; color: black\\'> \"</span><span style=\\'background-color: #fffafa; color: black\\'>Po</span><span style=\\'background-color: #ffffff; color: black\\'>et</span><span style=\\'background-color: #ffffff; color: black\\'>-</span><span style=\\'background-color: #ffffff; color: black\\'>Hist</span><span style=\\'background-color: #ffffff; color: black\\'>orian</span><span style=\\'background-color: #fffafa; color: black\\'>\"</span><span style=\\'background-color: #fffafa; color: black\\'> and</span><span style=\\'background-color: #ffffff; color: black\\'> the</span><span style=\\'background-color: #fff5f5; color: black\\'> \"</span><span style=\\'background-color: #fffafa; color: black\\'>Po</span><span style=\\'background-color: #ffffff; color: black\\'>et</span><span style=\\'background-color: #ffffff; color: black\\'>-</span><span style=\\'background-color: #ffffff; color: black\\'>S</span><span style=\\'background-color: #ffffff; color: black\\'>age</span><span style=\\'background-color: #fffafa; color: black\\'>\"</span><span style=\\'background-color: #fff5f5; color: black\\'> by</span><span style=\\'background-color: #ffffff; color: black\\'> Chinese</span><span style=\\'background-color: #fff5f5; color: black\\'> critics</span><span style=\\'background-color: #ffebeb; color: black\\'>,</span><span style=\\'background-color: #fff0f0; color: black\\'> while</span><span style=\\'background-color: #fff5f5; color: black\\'> the</span><span style=\\'background-color: #fff5f5; color: black\\'> range</span><span style=\\'background-color: #fff5f5; color: black\\'> of</span><span style=\\'background-color: #fffafa; color: black\\'> his</span><span style=\\'background-color: #fff5f5; color: black\\'> work</span><span style=\\'background-color: #ffebeb; color: black\\'> has</span><span style=\\'background-color: #fff5f5; color: black\\'> allowed</span><span style=\\'background-color: #ffebeb; color: black\\'> him</span><span style=\\'background-color: #fff0f0; color: black\\'> to</span><span style=\\'background-color: #fff0f0; color: black\\'> be</span><span style=\\'background-color: #fffafa; color: black\\'> introduced</span><span style=\\'background-color: #ffebeb; color: black\\'> to</span><span style=\\'background-color: #fff5f5; color: black\\'> Western</span><span style=\\'background-color: #fff0f0; color: black\\'> readers</span><span style=\\'background-color: #ffebeb; color: black\\'> as</span><span style=\\'background-color: #ffebeb; color: black\\'> \"</span><span style=\\'background-color: #fffafa; color: black\\'>the</span><span style=\\'background-color: #fff5f5; color: black\\'> Chinese</span><span style=\\'background-color: #ffffff; color: black\\'> Vir</span><span style=\\'background-color: #fff5f5; color: black\\'>gil</span><span style=\\'background-color: #ffebeb; color: black\\'>,</span><span style=\\'background-color: #fff0f0; color: black\\'> Hor</span><span style=\\'background-color: #fffafa; color: black\\'>ace</span><span style=\\'background-color: #ffe5e5; color: black\\'>,</span><span style=\\'background-color: #fff0f0; color: black\\'> O</span><span style=\\'background-color: #fff0f0; color: black\\'>vid</span><span style=\\'background-color: #ffe5e5; color: black\\'>,</span><span style=\\'background-color: #fff0f0; color: black\\'> Shakespeare</span><span style=\\'background-color: #ffe0e0; color: black\\'>,</span><span style=\\'background-color: #ffebeb; color: black\\'> Milton</span><span style=\\'background-color: #ffe0e0; color: black\\'>,</span><span style=\\'background-color: #ffe5e5; color: black\\'> Burns</span><span style=\\'background-color: #ffd6d6; color: black\\'>,</span><span style=\\'background-color: #ffe0e0; color: black\\'> Word</span><span style=\\'background-color: #ffdbdb; color: black\\'>sworth</span><span style=\\'background-color: #ffc6c6; color: black\\'>,</span><span style=\\'background-color: #ffb6b6; color: black\\'> B</span><span style=\\'background-color: #ffdbdb; color: black\\'>ér</span><span style=\\'background-color: #ffdbdb; color: black\\'>anger</span><span style=\\'background-color: #ffacac; color: black\\'>,</span><span style=\\'background-color: #ff7d7d; color: black\\'> Hugo</span><span style=\\'background-color: #ff8282; color: black\\'> or</span><span style=\\'background-color: #ffffff; color: black\\'> </span>'"
      ]
     },
     "execution_count": 80,
     "metadata": {},
     "output_type": "execute_result"
    }
   ],
   "source": [
    "html"
   ]
  },
  {
   "cell_type": "code",
   "execution_count": 81,
   "metadata": {},
   "outputs": [],
   "source": [
    "def kaplan_yorke_dimension(spectrum):\n",
    "    \"\"\"\n",
    "    taken from:\n",
    "    https://github.com/williamgilpin/dysts/blob/master/dysts/analysis.py\n",
    "    \"\"\"\n",
    "    spectrum = np.sort(spectrum)[::-1]\n",
    "    d = len(spectrum)\n",
    "    cspec = np.cumsum(spectrum)\n",
    "    try:\n",
    "        j = np.max(np.where(cspec >= 0))\n",
    "    except:\n",
    "        j = d - 1\n",
    "    if j > d - 2:\n",
    "        j = d - 2\n",
    "        print(\n",
    "            \"Cumulative sum of Lyapunov exponents never crosses zero.\"\n",
    "            + \"System may be ill-posed or undersampled.\"\n",
    "        )\n",
    "    dky = 1 + j + cspec[j] / np.abs(spectrum[j + 1])\n",
    "\n",
    "    return dky"
   ]
  },
  {
   "cell_type": "code",
   "execution_count": 82,
   "metadata": {},
   "outputs": [
    {
     "name": "stdout",
     "output_type": "stream",
     "text": [
      "Cumulative sum of Lyapunov exponents never crosses zero.System may be ill-posed or undersampled.\n",
      "Cumulative sum of Lyapunov exponents never crosses zero.System may be ill-posed or undersampled.\n",
      "Cumulative sum of Lyapunov exponents never crosses zero.System may be ill-posed or undersampled.\n",
      "Cumulative sum of Lyapunov exponents never crosses zero.System may be ill-posed or undersampled.\n",
      "Cumulative sum of Lyapunov exponents never crosses zero.System may be ill-posed or undersampled.\n",
      "Cumulative sum of Lyapunov exponents never crosses zero.System may be ill-posed or undersampled.\n",
      "Cumulative sum of Lyapunov exponents never crosses zero.System may be ill-posed or undersampled.\n",
      "Cumulative sum of Lyapunov exponents never crosses zero.System may be ill-posed or undersampled.\n",
      "Cumulative sum of Lyapunov exponents never crosses zero.System may be ill-posed or undersampled.\n",
      "Cumulative sum of Lyapunov exponents never crosses zero.System may be ill-posed or undersampled.\n",
      "Cumulative sum of Lyapunov exponents never crosses zero.System may be ill-posed or undersampled.\n",
      "Cumulative sum of Lyapunov exponents never crosses zero.System may be ill-posed or undersampled.\n",
      "Cumulative sum of Lyapunov exponents never crosses zero.System may be ill-posed or undersampled.\n",
      "Cumulative sum of Lyapunov exponents never crosses zero.System may be ill-posed or undersampled.\n",
      "Cumulative sum of Lyapunov exponents never crosses zero.System may be ill-posed or undersampled.\n",
      "Cumulative sum of Lyapunov exponents never crosses zero.System may be ill-posed or undersampled.\n",
      "Cumulative sum of Lyapunov exponents never crosses zero.System may be ill-posed or undersampled.\n",
      "Cumulative sum of Lyapunov exponents never crosses zero.System may be ill-posed or undersampled.\n",
      "Cumulative sum of Lyapunov exponents never crosses zero.System may be ill-posed or undersampled.\n",
      "Cumulative sum of Lyapunov exponents never crosses zero.System may be ill-posed or undersampled.\n",
      "Cumulative sum of Lyapunov exponents never crosses zero.System may be ill-posed or undersampled.\n",
      "Cumulative sum of Lyapunov exponents never crosses zero.System may be ill-posed or undersampled.\n",
      "Cumulative sum of Lyapunov exponents never crosses zero.System may be ill-posed or undersampled.\n",
      "Cumulative sum of Lyapunov exponents never crosses zero.System may be ill-posed or undersampled.\n",
      "Cumulative sum of Lyapunov exponents never crosses zero.System may be ill-posed or undersampled.\n",
      "Cumulative sum of Lyapunov exponents never crosses zero.System may be ill-posed or undersampled.\n",
      "Cumulative sum of Lyapunov exponents never crosses zero.System may be ill-posed or undersampled.\n",
      "Cumulative sum of Lyapunov exponents never crosses zero.System may be ill-posed or undersampled.\n",
      "Cumulative sum of Lyapunov exponents never crosses zero.System may be ill-posed or undersampled.\n",
      "Cumulative sum of Lyapunov exponents never crosses zero.System may be ill-posed or undersampled.\n",
      "Cumulative sum of Lyapunov exponents never crosses zero.System may be ill-posed or undersampled.\n",
      "Cumulative sum of Lyapunov exponents never crosses zero.System may be ill-posed or undersampled.\n",
      "Cumulative sum of Lyapunov exponents never crosses zero.System may be ill-posed or undersampled.\n",
      "Cumulative sum of Lyapunov exponents never crosses zero.System may be ill-posed or undersampled.\n",
      "Cumulative sum of Lyapunov exponents never crosses zero.System may be ill-posed or undersampled.\n",
      "Cumulative sum of Lyapunov exponents never crosses zero.System may be ill-posed or undersampled.\n",
      "Cumulative sum of Lyapunov exponents never crosses zero.System may be ill-posed or undersampled.\n",
      "Cumulative sum of Lyapunov exponents never crosses zero.System may be ill-posed or undersampled.\n",
      "Cumulative sum of Lyapunov exponents never crosses zero.System may be ill-posed or undersampled.\n",
      "Cumulative sum of Lyapunov exponents never crosses zero.System may be ill-posed or undersampled.\n",
      "Cumulative sum of Lyapunov exponents never crosses zero.System may be ill-posed or undersampled.\n",
      "Cumulative sum of Lyapunov exponents never crosses zero.System may be ill-posed or undersampled.\n",
      "Cumulative sum of Lyapunov exponents never crosses zero.System may be ill-posed or undersampled.\n",
      "Cumulative sum of Lyapunov exponents never crosses zero.System may be ill-posed or undersampled.\n",
      "Cumulative sum of Lyapunov exponents never crosses zero.System may be ill-posed or undersampled.\n",
      "Cumulative sum of Lyapunov exponents never crosses zero.System may be ill-posed or undersampled.\n",
      "Cumulative sum of Lyapunov exponents never crosses zero.System may be ill-posed or undersampled.\n",
      "Cumulative sum of Lyapunov exponents never crosses zero.System may be ill-posed or undersampled.\n",
      "Cumulative sum of Lyapunov exponents never crosses zero.System may be ill-posed or undersampled.\n",
      "Cumulative sum of Lyapunov exponents never crosses zero.System may be ill-posed or undersampled.\n",
      "Cumulative sum of Lyapunov exponents never crosses zero.System may be ill-posed or undersampled.\n",
      "Cumulative sum of Lyapunov exponents never crosses zero.System may be ill-posed or undersampled.\n",
      "Cumulative sum of Lyapunov exponents never crosses zero.System may be ill-posed or undersampled.\n",
      "Cumulative sum of Lyapunov exponents never crosses zero.System may be ill-posed or undersampled.\n",
      "Cumulative sum of Lyapunov exponents never crosses zero.System may be ill-posed or undersampled.\n",
      "Cumulative sum of Lyapunov exponents never crosses zero.System may be ill-posed or undersampled.\n",
      "Cumulative sum of Lyapunov exponents never crosses zero.System may be ill-posed or undersampled.\n"
     ]
    }
   ],
   "source": [
    "ky = np.zeros((lambdas.shape[0], 1))\n",
    "for i, spectrum in enumerate(lambdas):\n",
    "    dim = kaplan_yorke_dimension(spectrum)\n",
    "    ky[i, 0] = dim"
   ]
  },
  {
   "cell_type": "code",
   "execution_count": 83,
   "metadata": {},
   "outputs": [
    {
     "data": {
      "text/html": [
       "<span style='background-color: #ff5858; color: black'>\n",
       "</span><span style='background-color: #ff9797; color: black'>Although</span><span style='background-color: #ff6363; color: black'> initially</span><span style='background-color: #ff2424; color: black'> he</span><span style='background-color: #ff6363; color: black'> was</span><span style='background-color: #ff6363; color: black'> little</span><span style='background-color: #ff1f1f; color: black'>-</span><span style='background-color: #ff4949; color: black'>known</span><span style='background-color: #ff4e4e; color: black'> to</span><span style='background-color: #ff4949; color: black'> other</span><span style='background-color: #ff7272; color: black'> writers</span><span style='background-color: #ff8282; color: black'>,</span><span style='background-color: #ff9c9c; color: black'> his</span><span style='background-color: #ffb1b1; color: black'> works</span><span style='background-color: #ffb6b6; color: black'> came</span><span style='background-color: #ff7272; color: black'> to</span><span style='background-color: #ffa7a7; color: black'> be</span><span style='background-color: #ff8d8d; color: black'> hugely</span><span style='background-color: #ff8d8d; color: black'> influential</span><span style='background-color: #ffc1c1; color: black'> in</span><span style='background-color: #ff8d8d; color: black'> both</span><span style='background-color: #ff9292; color: black'> Chinese</span><span style='background-color: #ff6363; color: black'> and</span><span style='background-color: #ff6363; color: black'> Japanese</span><span style='background-color: #ff6363; color: black'> literary</span><span style='background-color: #ff5353; color: black'> culture</span><span style='background-color: #ff6363; color: black'>.</span><span style='background-color: #ffbcbc; color: black'> Of</span><span style='background-color: #ffacac; color: black'> his</span><span style='background-color: #ff7272; color: black'> poetic</span><span style='background-color: #ff8787; color: black'> writing</span><span style='background-color: #ff9292; color: black'>,</span><span style='background-color: #ff5e5e; color: black'> nearly</span><span style='background-color: #ff5e5e; color: black'> fifteen</span><span style='background-color: #ff5858; color: black'> hundred</span><span style='background-color: #ff5858; color: black'> poems</span><span style='background-color: #ff7878; color: black'> have</span><span style='background-color: #ff6868; color: black'> been</span><span style='background-color: #ff5e5e; color: black'> preserved</span><span style='background-color: #ff7878; color: black'> over</span><span style='background-color: #ff5e5e; color: black'> the</span><span style='background-color: #ff5e5e; color: black'> ages</span><span style='background-color: #ff7272; color: black'>.</span><span style='background-color: #ff7d7d; color: black'> He</span><span style='background-color: #ff6d6d; color: black'> has</span><span style='background-color: #ff7878; color: black'> been</span><span style='background-color: #ff8282; color: black'> called</span><span style='background-color: #ff8282; color: black'> the</span><span style='background-color: #ff6363; color: black'> \"</span><span style='background-color: #ff5858; color: black'>Po</span><span style='background-color: #ff5e5e; color: black'>et</span><span style='background-color: #ff3e3e; color: black'>-</span><span style='background-color: #ff3939; color: black'>Hist</span><span style='background-color: #ff4949; color: black'>orian</span><span style='background-color: #ff4e4e; color: black'>\"</span><span style='background-color: #ff6d6d; color: black'> and</span><span style='background-color: #ff7d7d; color: black'> the</span><span style='background-color: #ff5e5e; color: black'> \"</span><span style='background-color: #ff5e5e; color: black'>Po</span><span style='background-color: #ff6363; color: black'>et</span><span style='background-color: #ff3e3e; color: black'>-</span><span style='background-color: #ff4e4e; color: black'>S</span><span style='background-color: #ff5858; color: black'>age</span><span style='background-color: #ff5e5e; color: black'>\"</span><span style='background-color: #ff9292; color: black'> by</span><span style='background-color: #ff7d7d; color: black'> Chinese</span><span style='background-color: #ff4e4e; color: black'> critics</span><span style='background-color: #ff5353; color: black'>,</span><span style='background-color: #ffc1c1; color: black'> while</span><span style='background-color: #ff8d8d; color: black'> the</span><span style='background-color: #ff6d6d; color: black'> range</span><span style='background-color: #ff9292; color: black'> of</span><span style='background-color: #ffc1c1; color: black'> his</span><span style='background-color: #ff7272; color: black'> work</span><span style='background-color: #ff6363; color: black'> has</span><span style='background-color: #ff6d6d; color: black'> allowed</span><span style='background-color: #ff4e4e; color: black'> him</span><span style='background-color: #ff7272; color: black'> to</span><span style='background-color: #ff7d7d; color: black'> be</span><span style='background-color: #ff6d6d; color: black'> introduced</span><span style='background-color: #ff6d6d; color: black'> to</span><span style='background-color: #ffa1a1; color: black'> Western</span><span style='background-color: #ff7d7d; color: black'> readers</span><span style='background-color: #ff9c9c; color: black'> as</span><span style='background-color: #ff8d8d; color: black'> \"</span><span style='background-color: #ff9797; color: black'>the</span><span style='background-color: #ff6363; color: black'> Chinese</span><span style='background-color: #ff6363; color: black'> Vir</span><span style='background-color: #ff1f1f; color: black'>gil</span><span style='background-color: #ff3939; color: black'>,</span><span style='background-color: #ff6d6d; color: black'> Hor</span><span style='background-color: #ff3e3e; color: black'>ace</span><span style='background-color: #ff2424; color: black'>,</span><span style='background-color: #ff6363; color: black'> O</span><span style='background-color: #ff6868; color: black'>vid</span><span style='background-color: #ff1f1f; color: black'>,</span><span style='background-color: #ff5e5e; color: black'> Shakespeare</span><span style='background-color: #ff2f2f; color: black'>,</span><span style='background-color: #ff4e4e; color: black'> Milton</span><span style='background-color: #ff3939; color: black'>,</span><span style='background-color: #ff4e4e; color: black'> Burns</span><span style='background-color: #ff3e3e; color: black'>,</span><span style='background-color: #ff4e4e; color: black'> Word</span><span style='background-color: #ffffff; color: black'>sworth</span><span style='background-color: #ff4e4e; color: black'>,</span><span style='background-color: #ff8787; color: black'> B</span><span style='background-color: #ff7272; color: black'>ér</span><span style='background-color: #ff4e4e; color: black'>anger</span><span style='background-color: #ff5858; color: black'>,</span><span style='background-color: #ff5e5e; color: black'> Hugo</span><span style='background-color: #ff8282; color: black'> or</span><span style='background-color: #ffa7a7; color: black'> </span><span style='background-color: #ffffff; color: black'>\n",
       "</span>"
      ],
      "text/plain": [
       "<IPython.core.display.HTML object>"
      ]
     },
     "metadata": {},
     "output_type": "display_data"
    }
   ],
   "source": [
    "html = visualize_lypunov_exponent(tokens, ky, tokenizer)\n",
    "display(HTML(html))"
   ]
  },
  {
   "cell_type": "code",
   "execution_count": 84,
   "metadata": {},
   "outputs": [
    {
     "data": {
      "text/plain": [
       "'<span style=\\'background-color: #ff5858; color: black\\'>\\n</span><span style=\\'background-color: #ff9797; color: black\\'>Although</span><span style=\\'background-color: #ff6363; color: black\\'> initially</span><span style=\\'background-color: #ff2424; color: black\\'> he</span><span style=\\'background-color: #ff6363; color: black\\'> was</span><span style=\\'background-color: #ff6363; color: black\\'> little</span><span style=\\'background-color: #ff1f1f; color: black\\'>-</span><span style=\\'background-color: #ff4949; color: black\\'>known</span><span style=\\'background-color: #ff4e4e; color: black\\'> to</span><span style=\\'background-color: #ff4949; color: black\\'> other</span><span style=\\'background-color: #ff7272; color: black\\'> writers</span><span style=\\'background-color: #ff8282; color: black\\'>,</span><span style=\\'background-color: #ff9c9c; color: black\\'> his</span><span style=\\'background-color: #ffb1b1; color: black\\'> works</span><span style=\\'background-color: #ffb6b6; color: black\\'> came</span><span style=\\'background-color: #ff7272; color: black\\'> to</span><span style=\\'background-color: #ffa7a7; color: black\\'> be</span><span style=\\'background-color: #ff8d8d; color: black\\'> hugely</span><span style=\\'background-color: #ff8d8d; color: black\\'> influential</span><span style=\\'background-color: #ffc1c1; color: black\\'> in</span><span style=\\'background-color: #ff8d8d; color: black\\'> both</span><span style=\\'background-color: #ff9292; color: black\\'> Chinese</span><span style=\\'background-color: #ff6363; color: black\\'> and</span><span style=\\'background-color: #ff6363; color: black\\'> Japanese</span><span style=\\'background-color: #ff6363; color: black\\'> literary</span><span style=\\'background-color: #ff5353; color: black\\'> culture</span><span style=\\'background-color: #ff6363; color: black\\'>.</span><span style=\\'background-color: #ffbcbc; color: black\\'> Of</span><span style=\\'background-color: #ffacac; color: black\\'> his</span><span style=\\'background-color: #ff7272; color: black\\'> poetic</span><span style=\\'background-color: #ff8787; color: black\\'> writing</span><span style=\\'background-color: #ff9292; color: black\\'>,</span><span style=\\'background-color: #ff5e5e; color: black\\'> nearly</span><span style=\\'background-color: #ff5e5e; color: black\\'> fifteen</span><span style=\\'background-color: #ff5858; color: black\\'> hundred</span><span style=\\'background-color: #ff5858; color: black\\'> poems</span><span style=\\'background-color: #ff7878; color: black\\'> have</span><span style=\\'background-color: #ff6868; color: black\\'> been</span><span style=\\'background-color: #ff5e5e; color: black\\'> preserved</span><span style=\\'background-color: #ff7878; color: black\\'> over</span><span style=\\'background-color: #ff5e5e; color: black\\'> the</span><span style=\\'background-color: #ff5e5e; color: black\\'> ages</span><span style=\\'background-color: #ff7272; color: black\\'>.</span><span style=\\'background-color: #ff7d7d; color: black\\'> He</span><span style=\\'background-color: #ff6d6d; color: black\\'> has</span><span style=\\'background-color: #ff7878; color: black\\'> been</span><span style=\\'background-color: #ff8282; color: black\\'> called</span><span style=\\'background-color: #ff8282; color: black\\'> the</span><span style=\\'background-color: #ff6363; color: black\\'> \"</span><span style=\\'background-color: #ff5858; color: black\\'>Po</span><span style=\\'background-color: #ff5e5e; color: black\\'>et</span><span style=\\'background-color: #ff3e3e; color: black\\'>-</span><span style=\\'background-color: #ff3939; color: black\\'>Hist</span><span style=\\'background-color: #ff4949; color: black\\'>orian</span><span style=\\'background-color: #ff4e4e; color: black\\'>\"</span><span style=\\'background-color: #ff6d6d; color: black\\'> and</span><span style=\\'background-color: #ff7d7d; color: black\\'> the</span><span style=\\'background-color: #ff5e5e; color: black\\'> \"</span><span style=\\'background-color: #ff5e5e; color: black\\'>Po</span><span style=\\'background-color: #ff6363; color: black\\'>et</span><span style=\\'background-color: #ff3e3e; color: black\\'>-</span><span style=\\'background-color: #ff4e4e; color: black\\'>S</span><span style=\\'background-color: #ff5858; color: black\\'>age</span><span style=\\'background-color: #ff5e5e; color: black\\'>\"</span><span style=\\'background-color: #ff9292; color: black\\'> by</span><span style=\\'background-color: #ff7d7d; color: black\\'> Chinese</span><span style=\\'background-color: #ff4e4e; color: black\\'> critics</span><span style=\\'background-color: #ff5353; color: black\\'>,</span><span style=\\'background-color: #ffc1c1; color: black\\'> while</span><span style=\\'background-color: #ff8d8d; color: black\\'> the</span><span style=\\'background-color: #ff6d6d; color: black\\'> range</span><span style=\\'background-color: #ff9292; color: black\\'> of</span><span style=\\'background-color: #ffc1c1; color: black\\'> his</span><span style=\\'background-color: #ff7272; color: black\\'> work</span><span style=\\'background-color: #ff6363; color: black\\'> has</span><span style=\\'background-color: #ff6d6d; color: black\\'> allowed</span><span style=\\'background-color: #ff4e4e; color: black\\'> him</span><span style=\\'background-color: #ff7272; color: black\\'> to</span><span style=\\'background-color: #ff7d7d; color: black\\'> be</span><span style=\\'background-color: #ff6d6d; color: black\\'> introduced</span><span style=\\'background-color: #ff6d6d; color: black\\'> to</span><span style=\\'background-color: #ffa1a1; color: black\\'> Western</span><span style=\\'background-color: #ff7d7d; color: black\\'> readers</span><span style=\\'background-color: #ff9c9c; color: black\\'> as</span><span style=\\'background-color: #ff8d8d; color: black\\'> \"</span><span style=\\'background-color: #ff9797; color: black\\'>the</span><span style=\\'background-color: #ff6363; color: black\\'> Chinese</span><span style=\\'background-color: #ff6363; color: black\\'> Vir</span><span style=\\'background-color: #ff1f1f; color: black\\'>gil</span><span style=\\'background-color: #ff3939; color: black\\'>,</span><span style=\\'background-color: #ff6d6d; color: black\\'> Hor</span><span style=\\'background-color: #ff3e3e; color: black\\'>ace</span><span style=\\'background-color: #ff2424; color: black\\'>,</span><span style=\\'background-color: #ff6363; color: black\\'> O</span><span style=\\'background-color: #ff6868; color: black\\'>vid</span><span style=\\'background-color: #ff1f1f; color: black\\'>,</span><span style=\\'background-color: #ff5e5e; color: black\\'> Shakespeare</span><span style=\\'background-color: #ff2f2f; color: black\\'>,</span><span style=\\'background-color: #ff4e4e; color: black\\'> Milton</span><span style=\\'background-color: #ff3939; color: black\\'>,</span><span style=\\'background-color: #ff4e4e; color: black\\'> Burns</span><span style=\\'background-color: #ff3e3e; color: black\\'>,</span><span style=\\'background-color: #ff4e4e; color: black\\'> Word</span><span style=\\'background-color: #ffffff; color: black\\'>sworth</span><span style=\\'background-color: #ff4e4e; color: black\\'>,</span><span style=\\'background-color: #ff8787; color: black\\'> B</span><span style=\\'background-color: #ff7272; color: black\\'>ér</span><span style=\\'background-color: #ff4e4e; color: black\\'>anger</span><span style=\\'background-color: #ff5858; color: black\\'>,</span><span style=\\'background-color: #ff5e5e; color: black\\'> Hugo</span><span style=\\'background-color: #ff8282; color: black\\'> or</span><span style=\\'background-color: #ffa7a7; color: black\\'> </span><span style=\\'background-color: #ffffff; color: black\\'>\\n</span>'"
      ]
     },
     "execution_count": 84,
     "metadata": {},
     "output_type": "execute_result"
    }
   ],
   "source": [
    "html"
   ]
  },
  {
   "cell_type": "markdown",
   "metadata": {},
   "source": [
    "## Open Web Text example"
   ]
  },
  {
   "cell_type": "code",
   "execution_count": 5,
   "metadata": {},
   "outputs": [],
   "source": [
    "# config_path = \"../config/owt/medium.yaml\"\n",
    "# checkpoint_path = \"../checkpoints/gvx59mox\"\n",
    "# model_choice = \"neuralode\"\n",
    "# additional_args = [\n",
    "#     \"--time_embed_dim\",\n",
    "#     \"96\",\n",
    "#     \"--sinusodial_dim\",\n",
    "#     \"512\",\n",
    "#     \"--data.cache_dir\",  # need to specify in notebook\n",
    "#     \"../cache_owt/\",\n",
    "# ]\n",
    "\n",
    "config_path = \"../config/owt/medium.yaml\"\n",
    "checkpoint_path = \"../checkpoints/gcwpvd34\"\n",
    "model_choice = \"neuralode\"\n",
    "additional_args = [\n",
    "    \"--time_embed_dim\",\n",
    "    \"144\",\n",
    "    \"--sinusodial_dim\",\n",
    "    \"512\",\n",
    "    \"--data.cache_dir\",  # need to specify in notebook\n",
    "    \"../cache_owt/\",\n",
    "]"
   ]
  },
  {
   "cell_type": "code",
   "execution_count": 6,
   "metadata": {},
   "outputs": [
    {
     "name": "stderr",
     "output_type": "stream",
     "text": [
      "Failed to detect the name of this notebook, you can set it manually with the WANDB_NOTEBOOK_NAME environment variable to enable code saving.\n",
      "train:   0%|          | 0/40000 [00:00<?, ?it/s]2024-05-21T18:22:18 - 0 - levanter.checkpoint - checkpoint.py:365 - INFO :: Discovered latest checkpoint from ../checkpoints/gcwpvd34 at /workspaces/qkvflow/notebooks/../checkpoints/gcwpvd34/step-38895\n",
      "2024-05-21T18:22:18 - 0 - levanter.checkpoint - checkpoint.py:311 - INFO :: Loading checkpoint from /workspaces/qkvflow/notebooks/../checkpoints/gcwpvd34/step-38895\n"
     ]
    }
   ],
   "source": [
    "trainer, model, eval_loader, tokenizer = levanter.config.main(\n",
    "    get_model,\n",
    "    args=[\n",
    "        \"--config_path\",\n",
    "        config_path,\n",
    "        \"--model_choice\",\n",
    "        model_choice,\n",
    "        \"--trainer.load_checkpoint_path\",\n",
    "        checkpoint_path,\n",
    "        \"--trainer.wandb.mode\",\n",
    "        \"disabled\",\n",
    "        \"--trainer.ray.start_workers\",\n",
    "        \"false\",\n",
    "        \"--trainer.ray.auto_start_cluster\",\n",
    "        \"false\",\n",
    "    ]\n",
    "    + additional_args,\n",
    ")()"
   ]
  },
  {
   "cell_type": "code",
   "execution_count": 6,
   "metadata": {},
   "outputs": [],
   "source": [
    "input = (\n",
    "    \"Port-au-Prince, Haiti (CNN) -- Earthquake victims, writhing in pain and grasping at life,\"\n",
    "    + \" watched doctors and nurses walk away from a field hospital Friday night after\"\n",
    "    + \" a Belgian medical team evacuated the area, saying it was concerned about \"\n",
    ")  # next word is security"
   ]
  },
  {
   "cell_type": "code",
   "execution_count": 7,
   "metadata": {},
   "outputs": [
    {
     "name": "stderr",
     "output_type": "stream",
     "text": [
      "/opt/conda/lib/python3.10/site-packages/haliax/core.py:233: UserWarning: Found axis with same name but different size.\n",
      "  warnings.warn(\"Found axis with same name but different size.\", UserWarning)\n"
     ]
    }
   ],
   "source": [
    "tokens, lambdas = compute_lyapunov_exponent_for_sentence(\n",
    "    input=input,\n",
    "    model=model,\n",
    "    tokenizer=tokenizer,\n",
    ")\n",
    "tokens = np.array(tokens.array, dtype=tokens.dtype)\n",
    "lambdas = np.array(lambdas)\n",
    "lambdas = np.sum(lambdas, axis=0)"
   ]
  },
  {
   "cell_type": "code",
   "execution_count": 8,
   "metadata": {},
   "outputs": [
    {
     "data": {
      "text/html": [
       "<span style='background-color: #ffc1c1; color: black'>Port</span><span style='background-color: #ffffff; color: black'>-</span><span style='background-color: #ffffff; color: black'>au</span><span style='background-color: #ffffff; color: black'>-</span><span style='background-color: #ffffff; color: black'>Prince</span><span style='background-color: #ffffff; color: black'>,</span><span style='background-color: #ffe5e5; color: black'> Haiti</span><span style='background-color: #ffffff; color: black'> (</span><span style='background-color: #ffffff; color: black'>CNN</span><span style='background-color: #fffafa; color: black'>)</span><span style='background-color: #fff0f0; color: black'> --</span><span style='background-color: #ffd6d6; color: black'> Earthquake</span><span style='background-color: #ffffff; color: black'> victims</span><span style='background-color: #ffffff; color: black'>,</span><span style='background-color: #ffffff; color: black'> wr</span><span style='background-color: #ffffff; color: black'>ithing</span><span style='background-color: #ffffff; color: black'> in</span><span style='background-color: #ffffff; color: black'> pain</span><span style='background-color: #ffffff; color: black'> and</span><span style='background-color: #ffffff; color: black'> grasping</span><span style='background-color: #ffffff; color: black'> at</span><span style='background-color: #ffffff; color: black'> life</span><span style='background-color: #ffffff; color: black'>,</span><span style='background-color: #fffafa; color: black'> watched</span><span style='background-color: #ffffff; color: black'> doctors</span><span style='background-color: #ffffff; color: black'> and</span><span style='background-color: #ffffff; color: black'> nurses</span><span style='background-color: #ffffff; color: black'> walk</span><span style='background-color: #ffffff; color: black'> away</span><span style='background-color: #ffffff; color: black'> from</span><span style='background-color: #ffffff; color: black'> a</span><span style='background-color: #fffafa; color: black'> field</span><span style='background-color: #ffffff; color: black'> hospital</span><span style='background-color: #ffffff; color: black'> Friday</span><span style='background-color: #ffffff; color: black'> night</span><span style='background-color: #ffffff; color: black'> after</span><span style='background-color: #ffffff; color: black'> a</span><span style='background-color: #fffafa; color: black'> Belgian</span><span style='background-color: #fffafa; color: black'> medical</span><span style='background-color: #fffafa; color: black'> team</span><span style='background-color: #fffafa; color: black'> evacuated</span><span style='background-color: #fff5f5; color: black'> the</span><span style='background-color: #ffebeb; color: black'> area</span><span style='background-color: #ffebeb; color: black'>,</span><span style='background-color: #ffdbdb; color: black'> saying</span><span style='background-color: #fff5f5; color: black'> it</span><span style='background-color: #ffe0e0; color: black'> was</span><span style='background-color: #ff9797; color: black'> concerned</span><span style='background-color: #ffffff; color: black'> about</span>"
      ],
      "text/plain": [
       "<IPython.core.display.HTML object>"
      ]
     },
     "metadata": {},
     "output_type": "display_data"
    }
   ],
   "source": [
    "html = visualize_lypunov_exponent(tokens[:-1], lambdas[:-1], tokenizer)\n",
    "display(HTML(html))"
   ]
  },
  {
   "cell_type": "code",
   "execution_count": 9,
   "metadata": {},
   "outputs": [],
   "source": [
    "input = (\n",
    "    \"Former secretary of state Hillary Clinton meets voters at a campaign rally\"\n",
    "    + \" in St. Louis on Saturday. (Melina Mara/The Washington Post) Democratic front-runner Hillary Clinton\"\n",
    "    + \" was ahead by a slim margin in Missouri on Wednesday, but the race remained in \"\n",
    "    + \"limbo pending word on whether rival \"\n",
    ")  # next word is Sen"
   ]
  },
  {
   "cell_type": "code",
   "execution_count": 10,
   "metadata": {},
   "outputs": [],
   "source": [
    "tokens, lambdas = compute_lyapunov_exponent_for_sentence(\n",
    "    input=input,\n",
    "    model=model,\n",
    "    tokenizer=tokenizer,\n",
    ")\n",
    "tokens = np.array(tokens.array, dtype=tokens.dtype)\n",
    "lambdas = np.array(lambdas)\n",
    "lambdas = np.sum(lambdas, axis=0)"
   ]
  },
  {
   "cell_type": "code",
   "execution_count": 11,
   "metadata": {},
   "outputs": [
    {
     "data": {
      "text/html": [
       "<span style='background-color: #ffe5e5; color: black'>Former</span><span style='background-color: #ffebeb; color: black'> secretary</span><span style='background-color: #ffffff; color: black'> of</span><span style='background-color: #ffffff; color: black'> state</span><span style='background-color: #fffafa; color: black'> Hillary</span><span style='background-color: #fff5f5; color: black'> Clinton</span><span style='background-color: #ffffff; color: black'> meets</span><span style='background-color: #fffafa; color: black'> voters</span><span style='background-color: #fffafa; color: black'> at</span><span style='background-color: #ffffff; color: black'> a</span><span style='background-color: #ffffff; color: black'> campaign</span><span style='background-color: #ffffff; color: black'> rally</span><span style='background-color: #ffffff; color: black'> in</span><span style='background-color: #fff0f0; color: black'> St</span><span style='background-color: #ff6868; color: black'>.</span><span style='background-color: #ffebeb; color: black'> Louis</span><span style='background-color: #ffffff; color: black'> on</span><span style='background-color: #fff5f5; color: black'> Saturday</span><span style='background-color: #ffffff; color: black'>.</span><span style='background-color: #fff0f0; color: black'> (</span><span style='background-color: #ffd0d0; color: black'>Mel</span><span style='background-color: #ffebeb; color: black'>ina</span><span style='background-color: #ffdbdb; color: black'> Mara</span><span style='background-color: #fff5f5; color: black'>/</span><span style='background-color: #ff7d7d; color: black'>The</span><span style='background-color: #fffafa; color: black'> Washington</span><span style='background-color: #fffafa; color: black'> Post</span><span style='background-color: #ffe5e5; color: black'>)</span><span style='background-color: #ffe0e0; color: black'> Democratic</span><span style='background-color: #fffafa; color: black'> front</span><span style='background-color: #fff5f5; color: black'>-</span><span style='background-color: #fffafa; color: black'>runner</span><span style='background-color: #ffebeb; color: black'> Hillary</span><span style='background-color: #ffe5e5; color: black'> Clinton</span><span style='background-color: #ffd6d6; color: black'> was</span><span style='background-color: #fffafa; color: black'> ahead</span><span style='background-color: #fff5f5; color: black'> by</span><span style='background-color: #fff0f0; color: black'> a</span><span style='background-color: #fff5f5; color: black'> slim</span><span style='background-color: #ffe5e5; color: black'> margin</span><span style='background-color: #fffafa; color: black'> in</span><span style='background-color: #ffe5e5; color: black'> Missouri</span><span style='background-color: #fffafa; color: black'> on</span><span style='background-color: #ffebeb; color: black'> Wednesday</span><span style='background-color: #fff5f5; color: black'>,</span><span style='background-color: #ff4949; color: black'> but</span><span style='background-color: #fff5f5; color: black'> the</span><span style='background-color: #fffafa; color: black'> race</span><span style='background-color: #ffe0e0; color: black'> remained</span><span style='background-color: #fffafa; color: black'> in</span><span style='background-color: #fff5f5; color: black'> limbo</span><span style='background-color: #fff0f0; color: black'> pending</span><span style='background-color: #fffafa; color: black'> word</span><span style='background-color: #fffafa; color: black'> on</span><span style='background-color: #fff5f5; color: black'> whether</span><span style='background-color: #ff7d7d; color: black'> rival</span>"
      ],
      "text/plain": [
       "<IPython.core.display.HTML object>"
      ]
     },
     "metadata": {},
     "output_type": "display_data"
    }
   ],
   "source": [
    "html = visualize_lypunov_exponent(tokens[:-1], lambdas[:-1], tokenizer)\n",
    "display(HTML(html))"
   ]
  },
  {
   "cell_type": "code",
   "execution_count": 15,
   "metadata": {},
   "outputs": [],
   "source": [
    "input = (\n",
    "    \"The opinions expressed by columnists are their own and do not represent the\"\n",
    "    + \" views of Townhall.com. You have to give President Barack Obama credit for one thing: \"\n",
    ")  # next word is consistency"
   ]
  },
  {
   "cell_type": "code",
   "execution_count": 16,
   "metadata": {},
   "outputs": [],
   "source": [
    "tokens, lambdas = compute_lyapunov_exponent_for_sentence(\n",
    "    input=input,\n",
    "    model=model,\n",
    "    tokenizer=tokenizer,\n",
    ")\n",
    "tokens = np.array(tokens.array, dtype=tokens.dtype)\n",
    "lambdas = np.array(lambdas)"
   ]
  },
  {
   "cell_type": "code",
   "execution_count": 17,
   "metadata": {},
   "outputs": [
    {
     "data": {
      "text/html": [
       "<span style='background-color: #ffebeb; color: black'>The</span><span style='background-color: #fff5f5; color: black'> opinions</span><span style='background-color: #ffffff; color: black'> expressed</span><span style='background-color: #ffe5e5; color: black'> by</span><span style='background-color: #ffcbcb; color: black'> column</span><span style='background-color: #ffe5e5; color: black'>ists</span><span style='background-color: #ffffff; color: black'> are</span><span style='background-color: #ffe5e5; color: black'> their</span><span style='background-color: #fff0f0; color: black'> own</span><span style='background-color: #ffebeb; color: black'> and</span><span style='background-color: #fff5f5; color: black'> do</span><span style='background-color: #fffafa; color: black'> not</span><span style='background-color: #ffffff; color: black'> represent</span><span style='background-color: #ffffff; color: black'> the</span><span style='background-color: #fffafa; color: black'> views</span><span style='background-color: #fff0f0; color: black'> of</span><span style='background-color: #fff0f0; color: black'> Town</span><span style='background-color: #ffebeb; color: black'>hall</span><span style='background-color: #fff0f0; color: black'>.</span><span style='background-color: #ffebeb; color: black'>com</span><span style='background-color: #ffebeb; color: black'>.</span><span style='background-color: #ffe5e5; color: black'> You</span><span style='background-color: #ffe5e5; color: black'> have</span><span style='background-color: #fff0f0; color: black'> to</span><span style='background-color: #fffafa; color: black'> give</span><span style='background-color: #ffe0e0; color: black'> President</span><span style='background-color: #fff5f5; color: black'> Barack</span><span style='background-color: #ffebeb; color: black'> Obama</span><span style='background-color: #fff0f0; color: black'> credit</span><span style='background-color: #ffe0e0; color: black'> for</span><span style='background-color: #fffafa; color: black'> one</span><span style='background-color: #fffafa; color: black'> thing</span><span style='background-color: #fff0f0; color: black'>:</span><span style='background-color: #ffffff; color: black'> </span>"
      ],
      "text/plain": [
       "<IPython.core.display.HTML object>"
      ]
     },
     "metadata": {},
     "output_type": "display_data"
    }
   ],
   "source": [
    "lambdas = np.sum(lambdas, axis=0)\n",
    "html = visualize_lypunov_exponent(tokens, lambdas, tokenizer)\n",
    "display(HTML(html))"
   ]
  },
  {
   "cell_type": "code",
   "execution_count": 13,
   "metadata": {},
   "outputs": [],
   "source": [
    "input = (\n",
    "    \"BIGBANG is one of those musical entities that transcends language.\"\n",
    "    + \" It\\'s one of those rare groups that both innovates and defines the direction\"\n",
    "    + \" a genre takes. Covering a sound that includes hip hop, R&B and electronic dance, BIGBANG and \"\n",
    ")  # next word is its"
   ]
  },
  {
   "cell_type": "code",
   "execution_count": 14,
   "metadata": {},
   "outputs": [
    {
     "name": "stderr",
     "output_type": "stream",
     "text": [
      "/opt/conda/lib/python3.10/site-packages/haliax/core.py:233: UserWarning: Found axis with same name but different size.\n",
      "  warnings.warn(\"Found axis with same name but different size.\", UserWarning)\n"
     ]
    }
   ],
   "source": [
    "tokens, lambdas = compute_lyapunov_exponent_for_sentence(\n",
    "    input=input,\n",
    "    model=model,\n",
    "    tokenizer=tokenizer,\n",
    ")\n",
    "tokens = np.array(tokens.array, dtype=tokens.dtype)\n",
    "lambdas = np.array(lambdas)\n",
    "lambdas = np.sum(lambdas, axis=0)\n"
   ]
  },
  {
   "cell_type": "code",
   "execution_count": 15,
   "metadata": {},
   "outputs": [
    {
     "data": {
      "text/html": [
       "<span style='background-color: #ffd0d0; color: black'>BI</span><span style='background-color: #fffafa; color: black'>GB</span><span style='background-color: #ffe5e5; color: black'>ANG</span><span style='background-color: #fff5f5; color: black'> is</span><span style='background-color: #ffffff; color: black'> one</span><span style='background-color: #ffffff; color: black'> of</span><span style='background-color: #ffffff; color: black'> those</span><span style='background-color: #ffffff; color: black'> musical</span><span style='background-color: #ffffff; color: black'> entities</span><span style='background-color: #ffffff; color: black'> that</span><span style='background-color: #ffffff; color: black'> transc</span><span style='background-color: #ffffff; color: black'>ends</span><span style='background-color: #ffffff; color: black'> language</span><span style='background-color: #ffffff; color: black'>.</span><span style='background-color: #ffffff; color: black'> It</span><span style='background-color: #ffffff; color: black'>'s</span><span style='background-color: #ffffff; color: black'> one</span><span style='background-color: #ffffff; color: black'> of</span><span style='background-color: #ffffff; color: black'> those</span><span style='background-color: #ffffff; color: black'> rare</span><span style='background-color: #ffffff; color: black'> groups</span><span style='background-color: #ffffff; color: black'> that</span><span style='background-color: #ffffff; color: black'> both</span><span style='background-color: #ffffff; color: black'> innov</span><span style='background-color: #ffffff; color: black'>ates</span><span style='background-color: #ffffff; color: black'> and</span><span style='background-color: #ffffff; color: black'> defines</span><span style='background-color: #ffffff; color: black'> the</span><span style='background-color: #ffffff; color: black'> direction</span><span style='background-color: #ffffff; color: black'> a</span><span style='background-color: #ffffff; color: black'> genre</span><span style='background-color: #ffffff; color: black'> takes</span><span style='background-color: #ffcbcb; color: black'>.</span><span style='background-color: #fffafa; color: black'> Cover</span><span style='background-color: #fffafa; color: black'>ing</span><span style='background-color: #ffffff; color: black'> a</span><span style='background-color: #ffffff; color: black'> sound</span><span style='background-color: #fffafa; color: black'> that</span><span style='background-color: #ffebeb; color: black'> includes</span><span style='background-color: #ffffff; color: black'> hip</span><span style='background-color: #fffafa; color: black'> hop</span><span style='background-color: #fffafa; color: black'>,</span><span style='background-color: #ffffff; color: black'> R</span><span style='background-color: #ffffff; color: black'>&</span><span style='background-color: #ffffff; color: black'>B</span><span style='background-color: #ffe0e0; color: black'> and</span><span style='background-color: #fffafa; color: black'> electronic</span><span style='background-color: #fffafa; color: black'> dance</span><span style='background-color: #ffebeb; color: black'>,</span><span style='background-color: #ffdbdb; color: black'> BIG</span><span style='background-color: #fff0f0; color: black'>B</span><span style='background-color: #ffd0d0; color: black'>ANG</span><span style='background-color: #ffffff; color: black'> and</span>"
      ],
      "text/plain": [
       "<IPython.core.display.HTML object>"
      ]
     },
     "metadata": {},
     "output_type": "display_data"
    }
   ],
   "source": [
    "html = visualize_lypunov_exponent(tokens[:-1], lambdas[:-1], tokenizer)\n",
    "display(HTML(html))"
   ]
  },
  {
   "cell_type": "code",
   "execution_count": 16,
   "metadata": {},
   "outputs": [
    {
     "data": {
      "text/plain": [
       "\"<span style='background-color: #ffd0d0; color: black'>BI</span><span style='background-color: #fffafa; color: black'>GB</span><span style='background-color: #ffe5e5; color: black'>ANG</span><span style='background-color: #fff5f5; color: black'> is</span><span style='background-color: #ffffff; color: black'> one</span><span style='background-color: #ffffff; color: black'> of</span><span style='background-color: #ffffff; color: black'> those</span><span style='background-color: #ffffff; color: black'> musical</span><span style='background-color: #ffffff; color: black'> entities</span><span style='background-color: #ffffff; color: black'> that</span><span style='background-color: #ffffff; color: black'> transc</span><span style='background-color: #ffffff; color: black'>ends</span><span style='background-color: #ffffff; color: black'> language</span><span style='background-color: #ffffff; color: black'>.</span><span style='background-color: #ffffff; color: black'> It</span><span style='background-color: #ffffff; color: black'>'s</span><span style='background-color: #ffffff; color: black'> one</span><span style='background-color: #ffffff; color: black'> of</span><span style='background-color: #ffffff; color: black'> those</span><span style='background-color: #ffffff; color: black'> rare</span><span style='background-color: #ffffff; color: black'> groups</span><span style='background-color: #ffffff; color: black'> that</span><span style='background-color: #ffffff; color: black'> both</span><span style='background-color: #ffffff; color: black'> innov</span><span style='background-color: #ffffff; color: black'>ates</span><span style='background-color: #ffffff; color: black'> and</span><span style='background-color: #ffffff; color: black'> defines</span><span style='background-color: #ffffff; color: black'> the</span><span style='background-color: #ffffff; color: black'> direction</span><span style='background-color: #ffffff; color: black'> a</span><span style='background-color: #ffffff; color: black'> genre</span><span style='background-color: #ffffff; color: black'> takes</span><span style='background-color: #ffcbcb; color: black'>.</span><span style='background-color: #fffafa; color: black'> Cover</span><span style='background-color: #fffafa; color: black'>ing</span><span style='background-color: #ffffff; color: black'> a</span><span style='background-color: #ffffff; color: black'> sound</span><span style='background-color: #fffafa; color: black'> that</span><span style='background-color: #ffebeb; color: black'> includes</span><span style='background-color: #ffffff; color: black'> hip</span><span style='background-color: #fffafa; color: black'> hop</span><span style='background-color: #fffafa; color: black'>,</span><span style='background-color: #ffffff; color: black'> R</span><span style='background-color: #ffffff; color: black'>&</span><span style='background-color: #ffffff; color: black'>B</span><span style='background-color: #ffe0e0; color: black'> and</span><span style='background-color: #fffafa; color: black'> electronic</span><span style='background-color: #fffafa; color: black'> dance</span><span style='background-color: #ffebeb; color: black'>,</span><span style='background-color: #ffdbdb; color: black'> BIG</span><span style='background-color: #fff0f0; color: black'>B</span><span style='background-color: #ffd0d0; color: black'>ANG</span><span style='background-color: #ffffff; color: black'> and</span>\""
      ]
     },
     "execution_count": 16,
     "metadata": {},
     "output_type": "execute_result"
    }
   ],
   "source": [
    "html"
   ]
  },
  {
   "cell_type": "code",
   "execution_count": 7,
   "metadata": {},
   "outputs": [
    {
     "name": "stderr",
     "output_type": "stream",
     "text": [
      "/opt/conda/lib/python3.10/site-packages/haliax/core.py:233: UserWarning: Found axis with same name but different size.\n",
      "  warnings.warn(\"Found axis with same name but different size.\", UserWarning)\n"
     ]
    }
   ],
   "source": [
    "input = \"North Korea has detained another U.S. citizen, a Korean American professor, bringing to three the number of Americans being held in Pyongyang. The Swedish Embassy in Pyongyang, which represents U.S. interests there because the United States does not have diplomatic relations with \"\n",
    "# next word is North Korea\n",
    "tokens, lambdas = compute_lyapunov_exponent_for_sentence(\n",
    "    input=input,\n",
    "    model=model,\n",
    "    tokenizer=tokenizer,\n",
    ")\n",
    "tokens = np.array(tokens.array, dtype=tokens.dtype)\n",
    "lambdas = np.array(lambdas)\n",
    "lambdas = np.sum(lambdas, axis=0)\n"
   ]
  },
  {
   "cell_type": "code",
   "execution_count": 8,
   "metadata": {},
   "outputs": [
    {
     "data": {
      "text/html": [
       "<span style='background-color: #ffc1c1; color: black'>North</span><span style='background-color: #ffebeb; color: black'> Korea</span><span style='background-color: #ffffff; color: black'> has</span><span style='background-color: #ffffff; color: black'> detained</span><span style='background-color: #ffffff; color: black'> another</span><span style='background-color: #ffffff; color: black'> U</span><span style='background-color: #ffffff; color: black'>.</span><span style='background-color: #ffffff; color: black'>S</span><span style='background-color: #ffffff; color: black'>.</span><span style='background-color: #ffffff; color: black'> citizen</span><span style='background-color: #ffffff; color: black'>,</span><span style='background-color: #ffffff; color: black'> a</span><span style='background-color: #ffe0e0; color: black'> Korean</span><span style='background-color: #ffffff; color: black'> American</span><span style='background-color: #ffffff; color: black'> professor</span><span style='background-color: #ffffff; color: black'>,</span><span style='background-color: #ffffff; color: black'> bringing</span><span style='background-color: #ffffff; color: black'> to</span><span style='background-color: #ffffff; color: black'> three</span><span style='background-color: #ffffff; color: black'> the</span><span style='background-color: #ffffff; color: black'> number</span><span style='background-color: #ffffff; color: black'> of</span><span style='background-color: #ffffff; color: black'> Americans</span><span style='background-color: #ffffff; color: black'> being</span><span style='background-color: #ffffff; color: black'> held</span><span style='background-color: #ffffff; color: black'> in</span><span style='background-color: #fffafa; color: black'> Pyongyang</span><span style='background-color: #ffebeb; color: black'>.</span><span style='background-color: #fffafa; color: black'> The</span><span style='background-color: #ffd0d0; color: black'> Swedish</span><span style='background-color: #ffffff; color: black'> Embassy</span><span style='background-color: #ffffff; color: black'> in</span><span style='background-color: #fff0f0; color: black'> Pyongyang</span><span style='background-color: #ffffff; color: black'>,</span><span style='background-color: #ffffff; color: black'> which</span><span style='background-color: #fffafa; color: black'> represents</span><span style='background-color: #fffafa; color: black'> U</span><span style='background-color: #ffffff; color: black'>.</span><span style='background-color: #fffafa; color: black'>S</span><span style='background-color: #ffffff; color: black'>.</span><span style='background-color: #fff5f5; color: black'> interests</span><span style='background-color: #fffafa; color: black'> there</span><span style='background-color: #fff0f0; color: black'> because</span><span style='background-color: #fff5f5; color: black'> the</span><span style='background-color: #fff0f0; color: black'> United</span><span style='background-color: #ffebeb; color: black'> States</span><span style='background-color: #ffe0e0; color: black'> does</span><span style='background-color: #fff0f0; color: black'> not</span><span style='background-color: #ffe5e5; color: black'> have</span><span style='background-color: #ffd0d0; color: black'> diplomatic</span><span style='background-color: #ffe5e5; color: black'> relations</span><span style='background-color: #ffffff; color: black'> with</span>"
      ],
      "text/plain": [
       "<IPython.core.display.HTML object>"
      ]
     },
     "metadata": {},
     "output_type": "display_data"
    }
   ],
   "source": [
    "html = visualize_lypunov_exponent(tokens[:-1], lambdas[:-1], tokenizer)\n",
    "display(HTML(html))"
   ]
  },
  {
   "cell_type": "code",
   "execution_count": 9,
   "metadata": {},
   "outputs": [
    {
     "data": {
      "text/plain": [
       "\"<span style='background-color: #ffc1c1; color: black'>North</span><span style='background-color: #ffebeb; color: black'> Korea</span><span style='background-color: #ffffff; color: black'> has</span><span style='background-color: #ffffff; color: black'> detained</span><span style='background-color: #ffffff; color: black'> another</span><span style='background-color: #ffffff; color: black'> U</span><span style='background-color: #ffffff; color: black'>.</span><span style='background-color: #ffffff; color: black'>S</span><span style='background-color: #ffffff; color: black'>.</span><span style='background-color: #ffffff; color: black'> citizen</span><span style='background-color: #ffffff; color: black'>,</span><span style='background-color: #ffffff; color: black'> a</span><span style='background-color: #ffe0e0; color: black'> Korean</span><span style='background-color: #ffffff; color: black'> American</span><span style='background-color: #ffffff; color: black'> professor</span><span style='background-color: #ffffff; color: black'>,</span><span style='background-color: #ffffff; color: black'> bringing</span><span style='background-color: #ffffff; color: black'> to</span><span style='background-color: #ffffff; color: black'> three</span><span style='background-color: #ffffff; color: black'> the</span><span style='background-color: #ffffff; color: black'> number</span><span style='background-color: #ffffff; color: black'> of</span><span style='background-color: #ffffff; color: black'> Americans</span><span style='background-color: #ffffff; color: black'> being</span><span style='background-color: #ffffff; color: black'> held</span><span style='background-color: #ffffff; color: black'> in</span><span style='background-color: #fffafa; color: black'> Pyongyang</span><span style='background-color: #ffebeb; color: black'>.</span><span style='background-color: #fffafa; color: black'> The</span><span style='background-color: #ffd0d0; color: black'> Swedish</span><span style='background-color: #ffffff; color: black'> Embassy</span><span style='background-color: #ffffff; color: black'> in</span><span style='background-color: #fff0f0; color: black'> Pyongyang</span><span style='background-color: #ffffff; color: black'>,</span><span style='background-color: #ffffff; color: black'> which</span><span style='background-color: #fffafa; color: black'> represents</span><span style='background-color: #fffafa; color: black'> U</span><span style='background-color: #ffffff; color: black'>.</span><span style='background-color: #fffafa; color: black'>S</span><span style='background-color: #ffffff; color: black'>.</span><span style='background-color: #fff5f5; color: black'> interests</span><span style='background-color: #fffafa; color: black'> there</span><span style='background-color: #fff0f0; color: black'> because</span><span style='background-color: #fff5f5; color: black'> the</span><span style='background-color: #fff0f0; color: black'> United</span><span style='background-color: #ffebeb; color: black'> States</span><span style='background-color: #ffe0e0; color: black'> does</span><span style='background-color: #fff0f0; color: black'> not</span><span style='background-color: #ffe5e5; color: black'> have</span><span style='background-color: #ffd0d0; color: black'> diplomatic</span><span style='background-color: #ffe5e5; color: black'> relations</span><span style='background-color: #ffffff; color: black'> with</span>\""
      ]
     },
     "execution_count": 9,
     "metadata": {},
     "output_type": "execute_result"
    }
   ],
   "source": [
    "html"
   ]
  },
  {
   "cell_type": "code",
   "execution_count": 18,
   "metadata": {},
   "outputs": [
    {
     "name": "stderr",
     "output_type": "stream",
     "text": [
      "/opt/conda/lib/python3.10/site-packages/haliax/core.py:233: UserWarning: Found axis with same name but different size.\n",
      "  warnings.warn(\"Found axis with same name but different size.\", UserWarning)\n"
     ]
    }
   ],
   "source": [
    "input = \"An ancient Roman merchant vessel has been discovered off the Italian coastline, reportedly in such good condition that much of the food it was carrying might still be intact in its storage jars. \\'There are some broken jars around the wreck, but we believe that most of the amphorae inside the ship are still sealed and food-filled,\\\" Lt. Col. Francesco Schilardi of the police divers\\' group told the BBC of the containers. Local fisherman first became aware of the wreck when pieces of pottery began turning up in their \"\n",
    "# next word is `nets`\n",
    "tokens, lambdas = compute_lyapunov_exponent_for_sentence(\n",
    "    input=input,\n",
    "    model=model,\n",
    "    tokenizer=tokenizer,\n",
    ")\n",
    "tokens = np.array(tokens.array, dtype=tokens.dtype)\n",
    "lambdas = np.array(lambdas)\n",
    "lambdas = np.sum(lambdas, axis=0)"
   ]
  },
  {
   "cell_type": "code",
   "execution_count": 19,
   "metadata": {},
   "outputs": [
    {
     "data": {
      "text/html": [
       "<span style='background-color: #ffa1a1; color: black'>An</span><span style='background-color: #ffffff; color: black'> ancient</span><span style='background-color: #ffebeb; color: black'> Roman</span><span style='background-color: #ffffff; color: black'> merchant</span><span style='background-color: #fffafa; color: black'> vessel</span><span style='background-color: #ffffff; color: black'> has</span><span style='background-color: #ffffff; color: black'> been</span><span style='background-color: #ffffff; color: black'> discovered</span><span style='background-color: #ffffff; color: black'> off</span><span style='background-color: #ffffff; color: black'> the</span><span style='background-color: #fff5f5; color: black'> Italian</span><span style='background-color: #fffafa; color: black'> coastline</span><span style='background-color: #ffffff; color: black'>,</span><span style='background-color: #ffffff; color: black'> reportedly</span><span style='background-color: #ffffff; color: black'> in</span><span style='background-color: #ffffff; color: black'> such</span><span style='background-color: #ffffff; color: black'> good</span><span style='background-color: #fffafa; color: black'> condition</span><span style='background-color: #ffffff; color: black'> that</span><span style='background-color: #ffffff; color: black'> much</span><span style='background-color: #ffffff; color: black'> of</span><span style='background-color: #ffffff; color: black'> the</span><span style='background-color: #ffffff; color: black'> food</span><span style='background-color: #ffffff; color: black'> it</span><span style='background-color: #ffffff; color: black'> was</span><span style='background-color: #ffffff; color: black'> carrying</span><span style='background-color: #ffffff; color: black'> might</span><span style='background-color: #ffffff; color: black'> still</span><span style='background-color: #ffffff; color: black'> be</span><span style='background-color: #ffffff; color: black'> intact</span><span style='background-color: #ffffff; color: black'> in</span><span style='background-color: #ffffff; color: black'> its</span><span style='background-color: #ffffff; color: black'> storage</span><span style='background-color: #ffffff; color: black'> jars</span><span style='background-color: #fffafa; color: black'>.</span><span style='background-color: #ffffff; color: black'> '</span><span style='background-color: #ffffff; color: black'>There</span><span style='background-color: #ffffff; color: black'> are</span><span style='background-color: #ffffff; color: black'> some</span><span style='background-color: #ffffff; color: black'> broken</span><span style='background-color: #ffffff; color: black'> jars</span><span style='background-color: #ffffff; color: black'> around</span><span style='background-color: #ffffff; color: black'> the</span><span style='background-color: #ffffff; color: black'> wreck</span><span style='background-color: #ffffff; color: black'>,</span><span style='background-color: #ffffff; color: black'> but</span><span style='background-color: #ffffff; color: black'> we</span><span style='background-color: #ffffff; color: black'> believe</span><span style='background-color: #ffffff; color: black'> that</span><span style='background-color: #ffffff; color: black'> most</span><span style='background-color: #ffffff; color: black'> of</span><span style='background-color: #ffffff; color: black'> the</span><span style='background-color: #ffffff; color: black'> amph</span><span style='background-color: #ffffff; color: black'>or</span><span style='background-color: #ffffff; color: black'>ae</span><span style='background-color: #ffffff; color: black'> inside</span><span style='background-color: #ffffff; color: black'> the</span><span style='background-color: #ffffff; color: black'> ship</span><span style='background-color: #ffffff; color: black'> are</span><span style='background-color: #ffffff; color: black'> still</span><span style='background-color: #ffffff; color: black'> sealed</span><span style='background-color: #ffffff; color: black'> and</span><span style='background-color: #ffffff; color: black'> food</span><span style='background-color: #ffffff; color: black'>-</span><span style='background-color: #ffffff; color: black'>filled</span><span style='background-color: #ffffff; color: black'>,\"</span><span style='background-color: #ffffff; color: black'> Lt</span><span style='background-color: #ffffff; color: black'>.</span><span style='background-color: #ffffff; color: black'> Col</span><span style='background-color: #ffffff; color: black'>.</span><span style='background-color: #ffffff; color: black'> Frances</span><span style='background-color: #fffafa; color: black'>co</span><span style='background-color: #fffafa; color: black'> Sch</span><span style='background-color: #ffffff; color: black'>il</span><span style='background-color: #ffffff; color: black'>ardi</span><span style='background-color: #ffffff; color: black'> of</span><span style='background-color: #ffffff; color: black'> the</span><span style='background-color: #ffffff; color: black'> police</span><span style='background-color: #ffffff; color: black'> divers</span><span style='background-color: #ffffff; color: black'>'</span><span style='background-color: #ffffff; color: black'> group</span><span style='background-color: #ffffff; color: black'> told</span><span style='background-color: #ffffff; color: black'> the</span><span style='background-color: #fff5f5; color: black'> BBC</span><span style='background-color: #fffafa; color: black'> of</span><span style='background-color: #ffffff; color: black'> the</span><span style='background-color: #ffffff; color: black'> containers</span><span style='background-color: #ffd0d0; color: black'>.</span><span style='background-color: #fff5f5; color: black'> Local</span><span style='background-color: #ffd6d6; color: black'> fisherman</span><span style='background-color: #fffafa; color: black'> first</span><span style='background-color: #fff5f5; color: black'> became</span><span style='background-color: #fffafa; color: black'> aware</span><span style='background-color: #fff5f5; color: black'> of</span><span style='background-color: #fffafa; color: black'> the</span><span style='background-color: #fff5f5; color: black'> wreck</span><span style='background-color: #ffd6d6; color: black'> when</span><span style='background-color: #ffe5e5; color: black'> pieces</span><span style='background-color: #ffebeb; color: black'> of</span><span style='background-color: #ffdbdb; color: black'> pot</span><span style='background-color: #ffd0d0; color: black'>tery</span><span style='background-color: #ffd6d6; color: black'> began</span><span style='background-color: #ffdbdb; color: black'> turning</span><span style='background-color: #ffdbdb; color: black'> up</span><span style='background-color: #ff6868; color: black'> in</span><span style='background-color: #ffffff; color: black'> their</span>"
      ],
      "text/plain": [
       "<IPython.core.display.HTML object>"
      ]
     },
     "metadata": {},
     "output_type": "display_data"
    }
   ],
   "source": [
    "html = visualize_lypunov_exponent(tokens[:-1], lambdas[:-1], tokenizer)\n",
    "display(HTML(html))"
   ]
  },
  {
   "cell_type": "code",
   "execution_count": 20,
   "metadata": {},
   "outputs": [
    {
     "data": {
      "text/plain": [
       "'<span style=\\'background-color: #ffa1a1; color: black\\'>An</span><span style=\\'background-color: #ffffff; color: black\\'> ancient</span><span style=\\'background-color: #ffebeb; color: black\\'> Roman</span><span style=\\'background-color: #ffffff; color: black\\'> merchant</span><span style=\\'background-color: #fffafa; color: black\\'> vessel</span><span style=\\'background-color: #ffffff; color: black\\'> has</span><span style=\\'background-color: #ffffff; color: black\\'> been</span><span style=\\'background-color: #ffffff; color: black\\'> discovered</span><span style=\\'background-color: #ffffff; color: black\\'> off</span><span style=\\'background-color: #ffffff; color: black\\'> the</span><span style=\\'background-color: #fff5f5; color: black\\'> Italian</span><span style=\\'background-color: #fffafa; color: black\\'> coastline</span><span style=\\'background-color: #ffffff; color: black\\'>,</span><span style=\\'background-color: #ffffff; color: black\\'> reportedly</span><span style=\\'background-color: #ffffff; color: black\\'> in</span><span style=\\'background-color: #ffffff; color: black\\'> such</span><span style=\\'background-color: #ffffff; color: black\\'> good</span><span style=\\'background-color: #fffafa; color: black\\'> condition</span><span style=\\'background-color: #ffffff; color: black\\'> that</span><span style=\\'background-color: #ffffff; color: black\\'> much</span><span style=\\'background-color: #ffffff; color: black\\'> of</span><span style=\\'background-color: #ffffff; color: black\\'> the</span><span style=\\'background-color: #ffffff; color: black\\'> food</span><span style=\\'background-color: #ffffff; color: black\\'> it</span><span style=\\'background-color: #ffffff; color: black\\'> was</span><span style=\\'background-color: #ffffff; color: black\\'> carrying</span><span style=\\'background-color: #ffffff; color: black\\'> might</span><span style=\\'background-color: #ffffff; color: black\\'> still</span><span style=\\'background-color: #ffffff; color: black\\'> be</span><span style=\\'background-color: #ffffff; color: black\\'> intact</span><span style=\\'background-color: #ffffff; color: black\\'> in</span><span style=\\'background-color: #ffffff; color: black\\'> its</span><span style=\\'background-color: #ffffff; color: black\\'> storage</span><span style=\\'background-color: #ffffff; color: black\\'> jars</span><span style=\\'background-color: #fffafa; color: black\\'>.</span><span style=\\'background-color: #ffffff; color: black\\'> \\'</span><span style=\\'background-color: #ffffff; color: black\\'>There</span><span style=\\'background-color: #ffffff; color: black\\'> are</span><span style=\\'background-color: #ffffff; color: black\\'> some</span><span style=\\'background-color: #ffffff; color: black\\'> broken</span><span style=\\'background-color: #ffffff; color: black\\'> jars</span><span style=\\'background-color: #ffffff; color: black\\'> around</span><span style=\\'background-color: #ffffff; color: black\\'> the</span><span style=\\'background-color: #ffffff; color: black\\'> wreck</span><span style=\\'background-color: #ffffff; color: black\\'>,</span><span style=\\'background-color: #ffffff; color: black\\'> but</span><span style=\\'background-color: #ffffff; color: black\\'> we</span><span style=\\'background-color: #ffffff; color: black\\'> believe</span><span style=\\'background-color: #ffffff; color: black\\'> that</span><span style=\\'background-color: #ffffff; color: black\\'> most</span><span style=\\'background-color: #ffffff; color: black\\'> of</span><span style=\\'background-color: #ffffff; color: black\\'> the</span><span style=\\'background-color: #ffffff; color: black\\'> amph</span><span style=\\'background-color: #ffffff; color: black\\'>or</span><span style=\\'background-color: #ffffff; color: black\\'>ae</span><span style=\\'background-color: #ffffff; color: black\\'> inside</span><span style=\\'background-color: #ffffff; color: black\\'> the</span><span style=\\'background-color: #ffffff; color: black\\'> ship</span><span style=\\'background-color: #ffffff; color: black\\'> are</span><span style=\\'background-color: #ffffff; color: black\\'> still</span><span style=\\'background-color: #ffffff; color: black\\'> sealed</span><span style=\\'background-color: #ffffff; color: black\\'> and</span><span style=\\'background-color: #ffffff; color: black\\'> food</span><span style=\\'background-color: #ffffff; color: black\\'>-</span><span style=\\'background-color: #ffffff; color: black\\'>filled</span><span style=\\'background-color: #ffffff; color: black\\'>,\"</span><span style=\\'background-color: #ffffff; color: black\\'> Lt</span><span style=\\'background-color: #ffffff; color: black\\'>.</span><span style=\\'background-color: #ffffff; color: black\\'> Col</span><span style=\\'background-color: #ffffff; color: black\\'>.</span><span style=\\'background-color: #ffffff; color: black\\'> Frances</span><span style=\\'background-color: #fffafa; color: black\\'>co</span><span style=\\'background-color: #fffafa; color: black\\'> Sch</span><span style=\\'background-color: #ffffff; color: black\\'>il</span><span style=\\'background-color: #ffffff; color: black\\'>ardi</span><span style=\\'background-color: #ffffff; color: black\\'> of</span><span style=\\'background-color: #ffffff; color: black\\'> the</span><span style=\\'background-color: #ffffff; color: black\\'> police</span><span style=\\'background-color: #ffffff; color: black\\'> divers</span><span style=\\'background-color: #ffffff; color: black\\'>\\'</span><span style=\\'background-color: #ffffff; color: black\\'> group</span><span style=\\'background-color: #ffffff; color: black\\'> told</span><span style=\\'background-color: #ffffff; color: black\\'> the</span><span style=\\'background-color: #fff5f5; color: black\\'> BBC</span><span style=\\'background-color: #fffafa; color: black\\'> of</span><span style=\\'background-color: #ffffff; color: black\\'> the</span><span style=\\'background-color: #ffffff; color: black\\'> containers</span><span style=\\'background-color: #ffd0d0; color: black\\'>.</span><span style=\\'background-color: #fff5f5; color: black\\'> Local</span><span style=\\'background-color: #ffd6d6; color: black\\'> fisherman</span><span style=\\'background-color: #fffafa; color: black\\'> first</span><span style=\\'background-color: #fff5f5; color: black\\'> became</span><span style=\\'background-color: #fffafa; color: black\\'> aware</span><span style=\\'background-color: #fff5f5; color: black\\'> of</span><span style=\\'background-color: #fffafa; color: black\\'> the</span><span style=\\'background-color: #fff5f5; color: black\\'> wreck</span><span style=\\'background-color: #ffd6d6; color: black\\'> when</span><span style=\\'background-color: #ffe5e5; color: black\\'> pieces</span><span style=\\'background-color: #ffebeb; color: black\\'> of</span><span style=\\'background-color: #ffdbdb; color: black\\'> pot</span><span style=\\'background-color: #ffd0d0; color: black\\'>tery</span><span style=\\'background-color: #ffd6d6; color: black\\'> began</span><span style=\\'background-color: #ffdbdb; color: black\\'> turning</span><span style=\\'background-color: #ffdbdb; color: black\\'> up</span><span style=\\'background-color: #ff6868; color: black\\'> in</span><span style=\\'background-color: #ffffff; color: black\\'> their</span>'"
      ]
     },
     "execution_count": 20,
     "metadata": {},
     "output_type": "execute_result"
    }
   ],
   "source": [
    "html"
   ]
  },
  {
   "cell_type": "code",
   "execution_count": 28,
   "metadata": {},
   "outputs": [],
   "source": [
    "input = \"SEOUL (Reuters) - South Korean Lee Sedol won his first match against a computer program developed by a Google subsidiary on Sunday in the ancient board game Go, denying a clean sweep for the artificial intelligence in a five-match series. The world's top Go player Lee Sedol reviews the match after the fourth \"\n",
    "# next word is `match`\n",
    "tokens, lambdas = compute_lyapunov_exponent_for_sentence(\n",
    "    input=input,\n",
    "    model=model,\n",
    "    tokenizer=tokenizer,\n",
    ")\n",
    "tokens = np.array(tokens.array, dtype=tokens.dtype)\n",
    "lambdas = np.array(lambdas)\n",
    "lambdas = np.sum(lambdas, axis=0)"
   ]
  },
  {
   "cell_type": "code",
   "execution_count": 29,
   "metadata": {},
   "outputs": [
    {
     "data": {
      "text/html": [
       "<span style='background-color: #ffd6d6; color: black'>SE</span><span style='background-color: #ffffff; color: black'>OU</span><span style='background-color: #ffffff; color: black'>L</span><span style='background-color: #ffffff; color: black'> (</span><span style='background-color: #fffafa; color: black'>Reuters</span><span style='background-color: #ffffff; color: black'>)</span><span style='background-color: #fff5f5; color: black'> -</span><span style='background-color: #ffffff; color: black'> South</span><span style='background-color: #ffebeb; color: black'> Korean</span><span style='background-color: #ffffff; color: black'> Lee</span><span style='background-color: #fffafa; color: black'> Sed</span><span style='background-color: #ffffff; color: black'>ol</span><span style='background-color: #ffffff; color: black'> won</span><span style='background-color: #ffffff; color: black'> his</span><span style='background-color: #ffffff; color: black'> first</span><span style='background-color: #ffffff; color: black'> match</span><span style='background-color: #ffffff; color: black'> against</span><span style='background-color: #ffffff; color: black'> a</span><span style='background-color: #ffffff; color: black'> computer</span><span style='background-color: #ffffff; color: black'> program</span><span style='background-color: #ffffff; color: black'> developed</span><span style='background-color: #ffffff; color: black'> by</span><span style='background-color: #ffffff; color: black'> a</span><span style='background-color: #ffffff; color: black'> Google</span><span style='background-color: #ffffff; color: black'> subsidiary</span><span style='background-color: #ffffff; color: black'> on</span><span style='background-color: #ffffff; color: black'> Sunday</span><span style='background-color: #ffffff; color: black'> in</span><span style='background-color: #ffffff; color: black'> the</span><span style='background-color: #fffafa; color: black'> ancient</span><span style='background-color: #ffffff; color: black'> board</span><span style='background-color: #fffafa; color: black'> game</span><span style='background-color: #fffafa; color: black'> Go</span><span style='background-color: #ffffff; color: black'>,</span><span style='background-color: #ffffff; color: black'> denying</span><span style='background-color: #ffffff; color: black'> a</span><span style='background-color: #ffffff; color: black'> clean</span><span style='background-color: #fffafa; color: black'> sweep</span><span style='background-color: #ffffff; color: black'> for</span><span style='background-color: #ffffff; color: black'> the</span><span style='background-color: #ffffff; color: black'> artificial</span><span style='background-color: #ffffff; color: black'> intelligence</span><span style='background-color: #ffffff; color: black'> in</span><span style='background-color: #fffafa; color: black'> a</span><span style='background-color: #fffafa; color: black'> five</span><span style='background-color: #ffffff; color: black'>-</span><span style='background-color: #ffa1a1; color: black'>match</span><span style='background-color: #fffafa; color: black'> series</span><span style='background-color: #ffd6d6; color: black'>.</span><span style='background-color: #fffafa; color: black'> The</span><span style='background-color: #fffafa; color: black'> world</span><span style='background-color: #fffafa; color: black'>'s</span><span style='background-color: #fff5f5; color: black'> top</span><span style='background-color: #fffafa; color: black'> Go</span><span style='background-color: #fff5f5; color: black'> player</span><span style='background-color: #ffffff; color: black'> Lee</span><span style='background-color: #ffffff; color: black'> Sed</span><span style='background-color: #fffafa; color: black'>ol</span><span style='background-color: #ffebeb; color: black'> reviews</span><span style='background-color: #ffe5e5; color: black'> the</span><span style='background-color: #ffe0e0; color: black'> match</span><span style='background-color: #ffb1b1; color: black'> after</span><span style='background-color: #ffd6d6; color: black'> the</span><span style='background-color: #ffffff; color: black'> fourth</span>"
      ],
      "text/plain": [
       "<IPython.core.display.HTML object>"
      ]
     },
     "metadata": {},
     "output_type": "display_data"
    }
   ],
   "source": [
    "html = visualize_lypunov_exponent(tokens[:-1], lambdas[:-1], tokenizer)\n",
    "display(HTML(html))"
   ]
  },
  {
   "cell_type": "code",
   "execution_count": 30,
   "metadata": {},
   "outputs": [
    {
     "data": {
      "text/plain": [
       "\"<span style='background-color: #ffd6d6; color: black'>SE</span><span style='background-color: #ffffff; color: black'>OU</span><span style='background-color: #ffffff; color: black'>L</span><span style='background-color: #ffffff; color: black'> (</span><span style='background-color: #fffafa; color: black'>Reuters</span><span style='background-color: #ffffff; color: black'>)</span><span style='background-color: #fff5f5; color: black'> -</span><span style='background-color: #ffffff; color: black'> South</span><span style='background-color: #ffebeb; color: black'> Korean</span><span style='background-color: #ffffff; color: black'> Lee</span><span style='background-color: #fffafa; color: black'> Sed</span><span style='background-color: #ffffff; color: black'>ol</span><span style='background-color: #ffffff; color: black'> won</span><span style='background-color: #ffffff; color: black'> his</span><span style='background-color: #ffffff; color: black'> first</span><span style='background-color: #ffffff; color: black'> match</span><span style='background-color: #ffffff; color: black'> against</span><span style='background-color: #ffffff; color: black'> a</span><span style='background-color: #ffffff; color: black'> computer</span><span style='background-color: #ffffff; color: black'> program</span><span style='background-color: #ffffff; color: black'> developed</span><span style='background-color: #ffffff; color: black'> by</span><span style='background-color: #ffffff; color: black'> a</span><span style='background-color: #ffffff; color: black'> Google</span><span style='background-color: #ffffff; color: black'> subsidiary</span><span style='background-color: #ffffff; color: black'> on</span><span style='background-color: #ffffff; color: black'> Sunday</span><span style='background-color: #ffffff; color: black'> in</span><span style='background-color: #ffffff; color: black'> the</span><span style='background-color: #fffafa; color: black'> ancient</span><span style='background-color: #ffffff; color: black'> board</span><span style='background-color: #fffafa; color: black'> game</span><span style='background-color: #fffafa; color: black'> Go</span><span style='background-color: #ffffff; color: black'>,</span><span style='background-color: #ffffff; color: black'> denying</span><span style='background-color: #ffffff; color: black'> a</span><span style='background-color: #ffffff; color: black'> clean</span><span style='background-color: #fffafa; color: black'> sweep</span><span style='background-color: #ffffff; color: black'> for</span><span style='background-color: #ffffff; color: black'> the</span><span style='background-color: #ffffff; color: black'> artificial</span><span style='background-color: #ffffff; color: black'> intelligence</span><span style='background-color: #ffffff; color: black'> in</span><span style='background-color: #fffafa; color: black'> a</span><span style='background-color: #fffafa; color: black'> five</span><span style='background-color: #ffffff; color: black'>-</span><span style='background-color: #ffa1a1; color: black'>match</span><span style='background-color: #fffafa; color: black'> series</span><span style='background-color: #ffd6d6; color: black'>.</span><span style='background-color: #fffafa; color: black'> The</span><span style='background-color: #fffafa; color: black'> world</span><span style='background-color: #fffafa; color: black'>'s</span><span style='background-color: #fff5f5; color: black'> top</span><span style='background-color: #fffafa; color: black'> Go</span><span style='background-color: #fff5f5; color: black'> player</span><span style='background-color: #ffffff; color: black'> Lee</span><span style='background-color: #ffffff; color: black'> Sed</span><span style='background-color: #fffafa; color: black'>ol</span><span style='background-color: #ffebeb; color: black'> reviews</span><span style='background-color: #ffe5e5; color: black'> the</span><span style='background-color: #ffe0e0; color: black'> match</span><span style='background-color: #ffb1b1; color: black'> after</span><span style='background-color: #ffd6d6; color: black'> the</span><span style='background-color: #ffffff; color: black'> fourth</span>\""
      ]
     },
     "execution_count": 30,
     "metadata": {},
     "output_type": "execute_result"
    }
   ],
   "source": [
    "html"
   ]
  },
  {
   "cell_type": "code",
   "execution_count": 31,
   "metadata": {},
   "outputs": [
    {
     "name": "stderr",
     "output_type": "stream",
     "text": [
      "/opt/conda/lib/python3.10/site-packages/haliax/core.py:233: UserWarning: Found axis with same name but different size.\n",
      "  warnings.warn(\"Found axis with same name but different size.\", UserWarning)\n"
     ]
    }
   ],
   "source": [
    "input = \"Sleep is present and tightly regulated in every vertebrate species in which it has been carefully investigated, but what sleep is for remains a mystery. Sleep is also present in invertebrates, and an extensive analysis in Drosophila melanogaster has shown that sleep in fruit flies shows most of the fundamental features that characterize sleep in mammals. In Drosophila, sleep consists of sustained periods of quiescence associated with an increased arousal threshold. Fly sleep is modulated by several of the same stimulants and hypnotics that affect mammalian \"\n",
    "# next word is `sleep`\n",
    "tokens, lambdas = compute_lyapunov_exponent_for_sentence(\n",
    "    input=input,\n",
    "    model=model,\n",
    "    tokenizer=tokenizer,\n",
    ")\n",
    "tokens = np.array(tokens.array, dtype=tokens.dtype)\n",
    "lambdas = np.array(lambdas)\n",
    "lambdas = np.sum(lambdas, axis=0)"
   ]
  },
  {
   "cell_type": "code",
   "execution_count": 32,
   "metadata": {},
   "outputs": [
    {
     "data": {
      "text/html": [
       "<span style='background-color: #ffcbcb; color: black'>Sleep</span><span style='background-color: #ffffff; color: black'> is</span><span style='background-color: #ffffff; color: black'> present</span><span style='background-color: #ffffff; color: black'> and</span><span style='background-color: #ffffff; color: black'> tightly</span><span style='background-color: #ffffff; color: black'> regulated</span><span style='background-color: #ffffff; color: black'> in</span><span style='background-color: #ffffff; color: black'> every</span><span style='background-color: #ffffff; color: black'> verte</span><span style='background-color: #ffffff; color: black'>brate</span><span style='background-color: #ffffff; color: black'> species</span><span style='background-color: #ffffff; color: black'> in</span><span style='background-color: #ffffff; color: black'> which</span><span style='background-color: #ffffff; color: black'> it</span><span style='background-color: #ffffff; color: black'> has</span><span style='background-color: #ffffff; color: black'> been</span><span style='background-color: #ffffff; color: black'> carefully</span><span style='background-color: #ffffff; color: black'> investigated</span><span style='background-color: #ffffff; color: black'>,</span><span style='background-color: #ffffff; color: black'> but</span><span style='background-color: #ffffff; color: black'> what</span><span style='background-color: #fffafa; color: black'> sleep</span><span style='background-color: #ffffff; color: black'> is</span><span style='background-color: #ffffff; color: black'> for</span><span style='background-color: #ffffff; color: black'> remains</span><span style='background-color: #ffffff; color: black'> a</span><span style='background-color: #ffffff; color: black'> mystery</span><span style='background-color: #ffffff; color: black'>.</span><span style='background-color: #ffffff; color: black'> Sleep</span><span style='background-color: #ffffff; color: black'> is</span><span style='background-color: #ffffff; color: black'> also</span><span style='background-color: #ffffff; color: black'> present</span><span style='background-color: #ffffff; color: black'> in</span><span style='background-color: #ffffff; color: black'> inver</span><span style='background-color: #ffffff; color: black'>te</span><span style='background-color: #ffffff; color: black'>brates</span><span style='background-color: #ffffff; color: black'>,</span><span style='background-color: #ffffff; color: black'> and</span><span style='background-color: #ffffff; color: black'> an</span><span style='background-color: #ffffff; color: black'> extensive</span><span style='background-color: #ffffff; color: black'> analysis</span><span style='background-color: #ffffff; color: black'> in</span><span style='background-color: #fffafa; color: black'> D</span><span style='background-color: #ffffff; color: black'>ros</span><span style='background-color: #ffffff; color: black'>oph</span><span style='background-color: #ffffff; color: black'>ila</span><span style='background-color: #ffffff; color: black'> melan</span><span style='background-color: #ffffff; color: black'>og</span><span style='background-color: #ffffff; color: black'>aster</span><span style='background-color: #ffffff; color: black'> has</span><span style='background-color: #ffffff; color: black'> shown</span><span style='background-color: #ffffff; color: black'> that</span><span style='background-color: #ffffff; color: black'> sleep</span><span style='background-color: #ffffff; color: black'> in</span><span style='background-color: #ffffff; color: black'> fruit</span><span style='background-color: #ffffff; color: black'> flies</span><span style='background-color: #ffffff; color: black'> shows</span><span style='background-color: #ffffff; color: black'> most</span><span style='background-color: #ffffff; color: black'> of</span><span style='background-color: #ffffff; color: black'> the</span><span style='background-color: #ffffff; color: black'> fundamental</span><span style='background-color: #ffffff; color: black'> features</span><span style='background-color: #ffffff; color: black'> that</span><span style='background-color: #ffffff; color: black'> characterize</span><span style='background-color: #ffffff; color: black'> sleep</span><span style='background-color: #ffffff; color: black'> in</span><span style='background-color: #ffffff; color: black'> mammals</span><span style='background-color: #fffafa; color: black'>.</span><span style='background-color: #ffffff; color: black'> In</span><span style='background-color: #ffffff; color: black'> D</span><span style='background-color: #ffffff; color: black'>ros</span><span style='background-color: #ffffff; color: black'>oph</span><span style='background-color: #ffffff; color: black'>ila</span><span style='background-color: #ffffff; color: black'>,</span><span style='background-color: #ffffff; color: black'> sleep</span><span style='background-color: #ffffff; color: black'> consists</span><span style='background-color: #ffffff; color: black'> of</span><span style='background-color: #ffffff; color: black'> sustained</span><span style='background-color: #ffffff; color: black'> periods</span><span style='background-color: #ffffff; color: black'> of</span><span style='background-color: #ffffff; color: black'> qu</span><span style='background-color: #ffffff; color: black'>ies</span><span style='background-color: #ffffff; color: black'>cence</span><span style='background-color: #ffffff; color: black'> associated</span><span style='background-color: #ffffff; color: black'> with</span><span style='background-color: #ffffff; color: black'> an</span><span style='background-color: #ffffff; color: black'> increased</span><span style='background-color: #fffafa; color: black'> arousal</span><span style='background-color: #ffffff; color: black'> threshold</span><span style='background-color: #ffffff; color: black'>.</span><span style='background-color: #fff5f5; color: black'> Fly</span><span style='background-color: #ffffff; color: black'> sleep</span><span style='background-color: #ffebeb; color: black'> is</span><span style='background-color: #fffafa; color: black'> mod</span><span style='background-color: #ffffff; color: black'>ulated</span><span style='background-color: #ffe5e5; color: black'> by</span><span style='background-color: #fff5f5; color: black'> several</span><span style='background-color: #fff0f0; color: black'> of</span><span style='background-color: #fffafa; color: black'> the</span><span style='background-color: #fff0f0; color: black'> same</span><span style='background-color: #ffebeb; color: black'> stimul</span><span style='background-color: #fff0f0; color: black'>ants</span><span style='background-color: #ffc1c1; color: black'> and</span><span style='background-color: #ffe5e5; color: black'> hypnot</span><span style='background-color: #ffebeb; color: black'>ics</span><span style='background-color: #ffc1c1; color: black'> that</span><span style='background-color: #ffb6b6; color: black'> affect</span><span style='background-color: #ff1f1f; color: black'> mammalian</span>"
      ],
      "text/plain": [
       "<IPython.core.display.HTML object>"
      ]
     },
     "metadata": {},
     "output_type": "display_data"
    }
   ],
   "source": [
    "html = visualize_lypunov_exponent(tokens[:-1], lambdas[:-1], tokenizer)\n",
    "display(HTML(html))"
   ]
  },
  {
   "cell_type": "code",
   "execution_count": 33,
   "metadata": {},
   "outputs": [
    {
     "data": {
      "text/plain": [
       "\"<span style='background-color: #ffcbcb; color: black'>Sleep</span><span style='background-color: #ffffff; color: black'> is</span><span style='background-color: #ffffff; color: black'> present</span><span style='background-color: #ffffff; color: black'> and</span><span style='background-color: #ffffff; color: black'> tightly</span><span style='background-color: #ffffff; color: black'> regulated</span><span style='background-color: #ffffff; color: black'> in</span><span style='background-color: #ffffff; color: black'> every</span><span style='background-color: #ffffff; color: black'> verte</span><span style='background-color: #ffffff; color: black'>brate</span><span style='background-color: #ffffff; color: black'> species</span><span style='background-color: #ffffff; color: black'> in</span><span style='background-color: #ffffff; color: black'> which</span><span style='background-color: #ffffff; color: black'> it</span><span style='background-color: #ffffff; color: black'> has</span><span style='background-color: #ffffff; color: black'> been</span><span style='background-color: #ffffff; color: black'> carefully</span><span style='background-color: #ffffff; color: black'> investigated</span><span style='background-color: #ffffff; color: black'>,</span><span style='background-color: #ffffff; color: black'> but</span><span style='background-color: #ffffff; color: black'> what</span><span style='background-color: #fffafa; color: black'> sleep</span><span style='background-color: #ffffff; color: black'> is</span><span style='background-color: #ffffff; color: black'> for</span><span style='background-color: #ffffff; color: black'> remains</span><span style='background-color: #ffffff; color: black'> a</span><span style='background-color: #ffffff; color: black'> mystery</span><span style='background-color: #ffffff; color: black'>.</span><span style='background-color: #ffffff; color: black'> Sleep</span><span style='background-color: #ffffff; color: black'> is</span><span style='background-color: #ffffff; color: black'> also</span><span style='background-color: #ffffff; color: black'> present</span><span style='background-color: #ffffff; color: black'> in</span><span style='background-color: #ffffff; color: black'> inver</span><span style='background-color: #ffffff; color: black'>te</span><span style='background-color: #ffffff; color: black'>brates</span><span style='background-color: #ffffff; color: black'>,</span><span style='background-color: #ffffff; color: black'> and</span><span style='background-color: #ffffff; color: black'> an</span><span style='background-color: #ffffff; color: black'> extensive</span><span style='background-color: #ffffff; color: black'> analysis</span><span style='background-color: #ffffff; color: black'> in</span><span style='background-color: #fffafa; color: black'> D</span><span style='background-color: #ffffff; color: black'>ros</span><span style='background-color: #ffffff; color: black'>oph</span><span style='background-color: #ffffff; color: black'>ila</span><span style='background-color: #ffffff; color: black'> melan</span><span style='background-color: #ffffff; color: black'>og</span><span style='background-color: #ffffff; color: black'>aster</span><span style='background-color: #ffffff; color: black'> has</span><span style='background-color: #ffffff; color: black'> shown</span><span style='background-color: #ffffff; color: black'> that</span><span style='background-color: #ffffff; color: black'> sleep</span><span style='background-color: #ffffff; color: black'> in</span><span style='background-color: #ffffff; color: black'> fruit</span><span style='background-color: #ffffff; color: black'> flies</span><span style='background-color: #ffffff; color: black'> shows</span><span style='background-color: #ffffff; color: black'> most</span><span style='background-color: #ffffff; color: black'> of</span><span style='background-color: #ffffff; color: black'> the</span><span style='background-color: #ffffff; color: black'> fundamental</span><span style='background-color: #ffffff; color: black'> features</span><span style='background-color: #ffffff; color: black'> that</span><span style='background-color: #ffffff; color: black'> characterize</span><span style='background-color: #ffffff; color: black'> sleep</span><span style='background-color: #ffffff; color: black'> in</span><span style='background-color: #ffffff; color: black'> mammals</span><span style='background-color: #fffafa; color: black'>.</span><span style='background-color: #ffffff; color: black'> In</span><span style='background-color: #ffffff; color: black'> D</span><span style='background-color: #ffffff; color: black'>ros</span><span style='background-color: #ffffff; color: black'>oph</span><span style='background-color: #ffffff; color: black'>ila</span><span style='background-color: #ffffff; color: black'>,</span><span style='background-color: #ffffff; color: black'> sleep</span><span style='background-color: #ffffff; color: black'> consists</span><span style='background-color: #ffffff; color: black'> of</span><span style='background-color: #ffffff; color: black'> sustained</span><span style='background-color: #ffffff; color: black'> periods</span><span style='background-color: #ffffff; color: black'> of</span><span style='background-color: #ffffff; color: black'> qu</span><span style='background-color: #ffffff; color: black'>ies</span><span style='background-color: #ffffff; color: black'>cence</span><span style='background-color: #ffffff; color: black'> associated</span><span style='background-color: #ffffff; color: black'> with</span><span style='background-color: #ffffff; color: black'> an</span><span style='background-color: #ffffff; color: black'> increased</span><span style='background-color: #fffafa; color: black'> arousal</span><span style='background-color: #ffffff; color: black'> threshold</span><span style='background-color: #ffffff; color: black'>.</span><span style='background-color: #fff5f5; color: black'> Fly</span><span style='background-color: #ffffff; color: black'> sleep</span><span style='background-color: #ffebeb; color: black'> is</span><span style='background-color: #fffafa; color: black'> mod</span><span style='background-color: #ffffff; color: black'>ulated</span><span style='background-color: #ffe5e5; color: black'> by</span><span style='background-color: #fff5f5; color: black'> several</span><span style='background-color: #fff0f0; color: black'> of</span><span style='background-color: #fffafa; color: black'> the</span><span style='background-color: #fff0f0; color: black'> same</span><span style='background-color: #ffebeb; color: black'> stimul</span><span style='background-color: #fff0f0; color: black'>ants</span><span style='background-color: #ffc1c1; color: black'> and</span><span style='background-color: #ffe5e5; color: black'> hypnot</span><span style='background-color: #ffebeb; color: black'>ics</span><span style='background-color: #ffc1c1; color: black'> that</span><span style='background-color: #ffb6b6; color: black'> affect</span><span style='background-color: #ff1f1f; color: black'> mammalian</span>\""
      ]
     },
     "execution_count": 33,
     "metadata": {},
     "output_type": "execute_result"
    }
   ],
   "source": [
    "html"
   ]
  },
  {
   "cell_type": "code",
   "execution_count": null,
   "metadata": {},
   "outputs": [],
   "source": []
  }
 ],
 "metadata": {
  "kernelspec": {
   "display_name": "base",
   "language": "python",
   "name": "python3"
  },
  "language_info": {
   "codemirror_mode": {
    "name": "ipython",
    "version": 3
   },
   "file_extension": ".py",
   "mimetype": "text/x-python",
   "name": "python",
   "nbconvert_exporter": "python",
   "pygments_lexer": "ipython3",
   "version": "3.10.14"
  }
 },
 "nbformat": 4,
 "nbformat_minor": 2
}
